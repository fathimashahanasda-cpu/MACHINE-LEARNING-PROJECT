{
 "cells": [
  {
   "cell_type": "markdown",
   "metadata": {
    "id": "Rc3DjX0RGtel"
   },
   "source": [
    "**STEP 1 : IMPORT LIBRARIES AND LOAD DATA**"
   ]
  },
  {
   "cell_type": "code",
   "execution_count": 1,
   "metadata": {
    "id": "RTpSUx9KU59I"
   },
   "outputs": [
    {
     "name": "stdout",
     "output_type": "stream",
     "text": [
      "Defaulting to user installation because normal site-packages is not writeable\n",
      "Requirement already satisfied: category_encoders in c:\\users\\admin\\appdata\\roaming\\python\\python312\\site-packages (2.8.1)\n",
      "Requirement already satisfied: numpy>=1.14.0 in c:\\programdata\\anaconda3\\lib\\site-packages (from category_encoders) (1.26.4)\n",
      "Requirement already satisfied: pandas>=1.0.5 in c:\\programdata\\anaconda3\\lib\\site-packages (from category_encoders) (2.2.2)\n",
      "Requirement already satisfied: patsy>=0.5.1 in c:\\programdata\\anaconda3\\lib\\site-packages (from category_encoders) (0.5.6)\n",
      "Requirement already satisfied: scikit-learn>=1.6.0 in c:\\users\\admin\\appdata\\roaming\\python\\python312\\site-packages (from category_encoders) (1.6.1)\n",
      "Requirement already satisfied: scipy>=1.0.0 in c:\\programdata\\anaconda3\\lib\\site-packages (from category_encoders) (1.13.1)\n",
      "Requirement already satisfied: statsmodels>=0.9.0 in c:\\programdata\\anaconda3\\lib\\site-packages (from category_encoders) (0.14.2)\n",
      "Requirement already satisfied: python-dateutil>=2.8.2 in c:\\programdata\\anaconda3\\lib\\site-packages (from pandas>=1.0.5->category_encoders) (2.9.0.post0)\n",
      "Requirement already satisfied: pytz>=2020.1 in c:\\programdata\\anaconda3\\lib\\site-packages (from pandas>=1.0.5->category_encoders) (2024.1)\n",
      "Requirement already satisfied: tzdata>=2022.7 in c:\\programdata\\anaconda3\\lib\\site-packages (from pandas>=1.0.5->category_encoders) (2023.3)\n",
      "Requirement already satisfied: six in c:\\programdata\\anaconda3\\lib\\site-packages (from patsy>=0.5.1->category_encoders) (1.16.0)\n",
      "Requirement already satisfied: joblib>=1.2.0 in c:\\programdata\\anaconda3\\lib\\site-packages (from scikit-learn>=1.6.0->category_encoders) (1.4.2)\n",
      "Requirement already satisfied: threadpoolctl>=3.1.0 in c:\\programdata\\anaconda3\\lib\\site-packages (from scikit-learn>=1.6.0->category_encoders) (3.5.0)\n",
      "Requirement already satisfied: packaging>=21.3 in c:\\programdata\\anaconda3\\lib\\site-packages (from statsmodels>=0.9.0->category_encoders) (24.1)\n",
      "Defaulting to user installation because normal site-packages is not writeable\n",
      "Requirement already satisfied: streamlit in c:\\programdata\\anaconda3\\lib\\site-packages (1.37.1)\n",
      "Requirement already satisfied: altair<6,>=4.0 in c:\\programdata\\anaconda3\\lib\\site-packages (from streamlit) (5.0.1)\n",
      "Requirement already satisfied: blinker<2,>=1.0.0 in c:\\programdata\\anaconda3\\lib\\site-packages (from streamlit) (1.6.2)\n",
      "Requirement already satisfied: cachetools<6,>=4.0 in c:\\programdata\\anaconda3\\lib\\site-packages (from streamlit) (5.3.3)\n",
      "Requirement already satisfied: click<9,>=7.0 in c:\\programdata\\anaconda3\\lib\\site-packages (from streamlit) (8.1.7)\n",
      "Requirement already satisfied: numpy<3,>=1.20 in c:\\programdata\\anaconda3\\lib\\site-packages (from streamlit) (1.26.4)\n",
      "Requirement already satisfied: packaging<25,>=20 in c:\\programdata\\anaconda3\\lib\\site-packages (from streamlit) (24.1)\n",
      "Requirement already satisfied: pandas<3,>=1.3.0 in c:\\programdata\\anaconda3\\lib\\site-packages (from streamlit) (2.2.2)\n",
      "Requirement already satisfied: pillow<11,>=7.1.0 in c:\\programdata\\anaconda3\\lib\\site-packages (from streamlit) (10.4.0)\n",
      "Requirement already satisfied: protobuf<6,>=3.20 in c:\\programdata\\anaconda3\\lib\\site-packages (from streamlit) (4.25.3)\n",
      "Requirement already satisfied: pyarrow>=7.0 in c:\\programdata\\anaconda3\\lib\\site-packages (from streamlit) (16.1.0)\n",
      "Requirement already satisfied: requests<3,>=2.27 in c:\\programdata\\anaconda3\\lib\\site-packages (from streamlit) (2.32.3)\n",
      "Requirement already satisfied: rich<14,>=10.14.0 in c:\\programdata\\anaconda3\\lib\\site-packages (from streamlit) (13.7.1)\n",
      "Requirement already satisfied: tenacity<9,>=8.1.0 in c:\\programdata\\anaconda3\\lib\\site-packages (from streamlit) (8.2.3)\n",
      "Requirement already satisfied: toml<2,>=0.10.1 in c:\\programdata\\anaconda3\\lib\\site-packages (from streamlit) (0.10.2)\n",
      "Requirement already satisfied: typing-extensions<5,>=4.3.0 in c:\\programdata\\anaconda3\\lib\\site-packages (from streamlit) (4.11.0)\n",
      "Requirement already satisfied: gitpython!=3.1.19,<4,>=3.0.7 in c:\\programdata\\anaconda3\\lib\\site-packages (from streamlit) (3.1.43)\n",
      "Requirement already satisfied: pydeck<1,>=0.8.0b4 in c:\\programdata\\anaconda3\\lib\\site-packages (from streamlit) (0.8.0)\n",
      "Requirement already satisfied: tornado<7,>=6.0.3 in c:\\programdata\\anaconda3\\lib\\site-packages (from streamlit) (6.4.1)\n",
      "Requirement already satisfied: watchdog<5,>=2.1.5 in c:\\programdata\\anaconda3\\lib\\site-packages (from streamlit) (4.0.1)\n",
      "Requirement already satisfied: jinja2 in c:\\programdata\\anaconda3\\lib\\site-packages (from altair<6,>=4.0->streamlit) (3.1.4)\n",
      "Requirement already satisfied: jsonschema>=3.0 in c:\\programdata\\anaconda3\\lib\\site-packages (from altair<6,>=4.0->streamlit) (4.23.0)\n",
      "Requirement already satisfied: toolz in c:\\programdata\\anaconda3\\lib\\site-packages (from altair<6,>=4.0->streamlit) (0.12.0)\n",
      "Requirement already satisfied: colorama in c:\\programdata\\anaconda3\\lib\\site-packages (from click<9,>=7.0->streamlit) (0.4.6)\n",
      "Requirement already satisfied: gitdb<5,>=4.0.1 in c:\\programdata\\anaconda3\\lib\\site-packages (from gitpython!=3.1.19,<4,>=3.0.7->streamlit) (4.0.7)\n",
      "Requirement already satisfied: python-dateutil>=2.8.2 in c:\\programdata\\anaconda3\\lib\\site-packages (from pandas<3,>=1.3.0->streamlit) (2.9.0.post0)\n",
      "Requirement already satisfied: pytz>=2020.1 in c:\\programdata\\anaconda3\\lib\\site-packages (from pandas<3,>=1.3.0->streamlit) (2024.1)\n",
      "Requirement already satisfied: tzdata>=2022.7 in c:\\programdata\\anaconda3\\lib\\site-packages (from pandas<3,>=1.3.0->streamlit) (2023.3)\n",
      "Requirement already satisfied: charset-normalizer<4,>=2 in c:\\programdata\\anaconda3\\lib\\site-packages (from requests<3,>=2.27->streamlit) (3.3.2)\n",
      "Requirement already satisfied: idna<4,>=2.5 in c:\\programdata\\anaconda3\\lib\\site-packages (from requests<3,>=2.27->streamlit) (3.7)\n",
      "Requirement already satisfied: urllib3<3,>=1.21.1 in c:\\programdata\\anaconda3\\lib\\site-packages (from requests<3,>=2.27->streamlit) (2.2.3)\n",
      "Requirement already satisfied: certifi>=2017.4.17 in c:\\programdata\\anaconda3\\lib\\site-packages (from requests<3,>=2.27->streamlit) (2024.8.30)\n",
      "Requirement already satisfied: markdown-it-py>=2.2.0 in c:\\programdata\\anaconda3\\lib\\site-packages (from rich<14,>=10.14.0->streamlit) (2.2.0)\n",
      "Requirement already satisfied: pygments<3.0.0,>=2.13.0 in c:\\programdata\\anaconda3\\lib\\site-packages (from rich<14,>=10.14.0->streamlit) (2.15.1)\n",
      "Requirement already satisfied: smmap<5,>=3.0.1 in c:\\programdata\\anaconda3\\lib\\site-packages (from gitdb<5,>=4.0.1->gitpython!=3.1.19,<4,>=3.0.7->streamlit) (4.0.0)\n",
      "Requirement already satisfied: MarkupSafe>=2.0 in c:\\programdata\\anaconda3\\lib\\site-packages (from jinja2->altair<6,>=4.0->streamlit) (2.1.3)\n",
      "Requirement already satisfied: attrs>=22.2.0 in c:\\programdata\\anaconda3\\lib\\site-packages (from jsonschema>=3.0->altair<6,>=4.0->streamlit) (23.1.0)\n",
      "Requirement already satisfied: jsonschema-specifications>=2023.03.6 in c:\\programdata\\anaconda3\\lib\\site-packages (from jsonschema>=3.0->altair<6,>=4.0->streamlit) (2023.7.1)\n",
      "Requirement already satisfied: referencing>=0.28.4 in c:\\programdata\\anaconda3\\lib\\site-packages (from jsonschema>=3.0->altair<6,>=4.0->streamlit) (0.30.2)\n",
      "Requirement already satisfied: rpds-py>=0.7.1 in c:\\programdata\\anaconda3\\lib\\site-packages (from jsonschema>=3.0->altair<6,>=4.0->streamlit) (0.10.6)\n",
      "Requirement already satisfied: mdurl~=0.1 in c:\\programdata\\anaconda3\\lib\\site-packages (from markdown-it-py>=2.2.0->rich<14,>=10.14.0->streamlit) (0.1.0)\n",
      "Requirement already satisfied: six>=1.5 in c:\\programdata\\anaconda3\\lib\\site-packages (from python-dateutil>=2.8.2->pandas<3,>=1.3.0->streamlit) (1.16.0)\n"
     ]
    }
   ],
   "source": [
    "#import libraries\n",
    "import warnings\n",
    "warnings.simplefilter('ignore')\n",
    "import pandas as pd\n",
    "import numpy as np\n",
    "import matplotlib.pyplot as plt\n",
    "import seaborn as sns\n",
    "!pip install category_encoders\n",
    "from category_encoders import TargetEncoder\n",
    "import category_encoders as ce\n",
    "from sklearn.model_selection import train_test_split, cross_val_score, GridSearchCV\n",
    "from sklearn.preprocessing import StandardScaler, LabelEncoder\n",
    "from sklearn.metrics import accuracy_score\n",
    "from sklearn.ensemble import RandomForestClassifier, AdaBoostClassifier, GradientBoostingClassifier\n",
    "from sklearn.tree import DecisionTreeClassifier\n",
    "from sklearn.neighbors import KNeighborsClassifier\n",
    "from sklearn.svm import SVC\n",
    "from sklearn.naive_bayes import GaussianNB\n",
    "from sklearn.linear_model import LogisticRegression\n",
    "from xgboost import XGBClassifier\n",
    "from imblearn.over_sampling import SMOTE\n",
    "from sklearn.metrics import classification_report, confusion_matrix, ConfusionMatrixDisplay,accuracy_score\n",
    "from sklearn.model_selection import KFold\n",
    "from IPython.display import display, Markdown\n",
    "from sklearn.metrics import roc_auc_score, roc_curve, auc\n",
    "from sklearn.preprocessing import label_binarize\n",
    "from sklearn.pipeline import Pipeline\n",
    "from sklearn.compose import ColumnTransformer\n",
    "!pip install streamlit\n",
    "import streamlit as st\n",
    "import joblib"
   ]
  },
  {
   "cell_type": "code",
   "execution_count": 21,
   "metadata": {
    "colab": {
     "base_uri": "https://localhost:8080/",
     "height": 756
    },
    "id": "nnp3AlI9VQ64",
    "outputId": "93155136-a7ce-4d8c-8c9f-8f30cd5f2df9"
   },
   "outputs": [
    {
     "data": {
      "text/html": [
       "<div>\n",
       "<style scoped>\n",
       "    .dataframe tbody tr th:only-of-type {\n",
       "        vertical-align: middle;\n",
       "    }\n",
       "\n",
       "    .dataframe tbody tr th {\n",
       "        vertical-align: top;\n",
       "    }\n",
       "\n",
       "    .dataframe thead th {\n",
       "        text-align: right;\n",
       "    }\n",
       "</style>\n",
       "<table border=\"1\" class=\"dataframe\">\n",
       "  <thead>\n",
       "    <tr style=\"text-align: right;\">\n",
       "      <th></th>\n",
       "      <th>TRANSACTION_NUMBER</th>\n",
       "      <th>INSTANCE_DATE</th>\n",
       "      <th>GROUP_EN</th>\n",
       "      <th>PROCEDURE_EN</th>\n",
       "      <th>IS_OFFPLAN_EN</th>\n",
       "      <th>IS_FREE_HOLD_EN</th>\n",
       "      <th>USAGE_EN</th>\n",
       "      <th>AREA_EN</th>\n",
       "      <th>PROP_TYPE_EN</th>\n",
       "      <th>PROP_SB_TYPE_EN</th>\n",
       "      <th>...</th>\n",
       "      <th>ACTUAL_AREA</th>\n",
       "      <th>ROOMS_EN</th>\n",
       "      <th>PARKING</th>\n",
       "      <th>NEAREST_METRO_EN</th>\n",
       "      <th>NEAREST_MALL_EN</th>\n",
       "      <th>NEAREST_LANDMARK_EN</th>\n",
       "      <th>TOTAL_BUYER</th>\n",
       "      <th>TOTAL_SELLER</th>\n",
       "      <th>MASTER_PROJECT_EN</th>\n",
       "      <th>PROJECT_EN</th>\n",
       "    </tr>\n",
       "  </thead>\n",
       "  <tbody>\n",
       "    <tr>\n",
       "      <th>0</th>\n",
       "      <td>102-11792-2025</td>\n",
       "      <td>2025-05-12 21:10:27</td>\n",
       "      <td>Sales</td>\n",
       "      <td>Sell - Pre registration</td>\n",
       "      <td>Off-Plan</td>\n",
       "      <td>Free Hold</td>\n",
       "      <td>Residential</td>\n",
       "      <td>JUMEIRAH VILLAGE TRIANGLE</td>\n",
       "      <td>Unit</td>\n",
       "      <td>Flat</td>\n",
       "      <td>...</td>\n",
       "      <td>67.91</td>\n",
       "      <td>1 B/R</td>\n",
       "      <td>1</td>\n",
       "      <td>Nakheel Metro Station</td>\n",
       "      <td>Marina Mall</td>\n",
       "      <td>Sports City Swimming Academy</td>\n",
       "      <td>0</td>\n",
       "      <td>0</td>\n",
       "      <td>NaN</td>\n",
       "      <td>THE VYNE RESIDENCES</td>\n",
       "    </tr>\n",
       "    <tr>\n",
       "      <th>1</th>\n",
       "      <td>102-11864-2025</td>\n",
       "      <td>2025-05-01 21:09:07</td>\n",
       "      <td>Sales</td>\n",
       "      <td>Sell - Pre registration</td>\n",
       "      <td>Off-Plan</td>\n",
       "      <td>Free Hold</td>\n",
       "      <td>Residential</td>\n",
       "      <td>JUMEIRAH VILLAGE TRIANGLE</td>\n",
       "      <td>Unit</td>\n",
       "      <td>Flat</td>\n",
       "      <td>...</td>\n",
       "      <td>67.91</td>\n",
       "      <td>1 B/R</td>\n",
       "      <td>1</td>\n",
       "      <td>Nakheel Metro Station</td>\n",
       "      <td>Marina Mall</td>\n",
       "      <td>Sports City Swimming Academy</td>\n",
       "      <td>0</td>\n",
       "      <td>0</td>\n",
       "      <td>NaN</td>\n",
       "      <td>THE VYNE RESIDENCES</td>\n",
       "    </tr>\n",
       "    <tr>\n",
       "      <th>2</th>\n",
       "      <td>102-12902-2025</td>\n",
       "      <td>2025-04-30 22:07:05</td>\n",
       "      <td>Sales</td>\n",
       "      <td>Sell - Pre registration</td>\n",
       "      <td>Off-Plan</td>\n",
       "      <td>Free Hold</td>\n",
       "      <td>Residential</td>\n",
       "      <td>DUBAI LAND RESIDENCE COMPLEX</td>\n",
       "      <td>Unit</td>\n",
       "      <td>Flat</td>\n",
       "      <td>...</td>\n",
       "      <td>40.52</td>\n",
       "      <td>Studio</td>\n",
       "      <td>1</td>\n",
       "      <td>NaN</td>\n",
       "      <td>NaN</td>\n",
       "      <td>IMG World Adventures</td>\n",
       "      <td>0</td>\n",
       "      <td>0</td>\n",
       "      <td>NaN</td>\n",
       "      <td>Samana Park Meadows</td>\n",
       "    </tr>\n",
       "    <tr>\n",
       "      <th>3</th>\n",
       "      <td>102-17904-2025</td>\n",
       "      <td>2025-05-15 22:14:18</td>\n",
       "      <td>Sales</td>\n",
       "      <td>Sell - Pre registration</td>\n",
       "      <td>Off-Plan</td>\n",
       "      <td>Free Hold</td>\n",
       "      <td>Residential</td>\n",
       "      <td>ARJAN</td>\n",
       "      <td>Unit</td>\n",
       "      <td>Flat</td>\n",
       "      <td>...</td>\n",
       "      <td>42.29</td>\n",
       "      <td>Studio</td>\n",
       "      <td>1</td>\n",
       "      <td>Sharaf Dg Metro Station</td>\n",
       "      <td>Mall of the Emirates</td>\n",
       "      <td>Motor City</td>\n",
       "      <td>0</td>\n",
       "      <td>0</td>\n",
       "      <td>NaN</td>\n",
       "      <td>Parkside Boulevard</td>\n",
       "    </tr>\n",
       "    <tr>\n",
       "      <th>4</th>\n",
       "      <td>102-22018-2025</td>\n",
       "      <td>2025-05-14 16:01:42</td>\n",
       "      <td>Sales</td>\n",
       "      <td>Sell - Pre registration</td>\n",
       "      <td>Off-Plan</td>\n",
       "      <td>Free Hold</td>\n",
       "      <td>Residential</td>\n",
       "      <td>Al Wasl</td>\n",
       "      <td>Unit</td>\n",
       "      <td>Flat</td>\n",
       "      <td>...</td>\n",
       "      <td>127.29</td>\n",
       "      <td>2 B/R</td>\n",
       "      <td>1</td>\n",
       "      <td>NaN</td>\n",
       "      <td>NaN</td>\n",
       "      <td>NaN</td>\n",
       "      <td>0</td>\n",
       "      <td>0</td>\n",
       "      <td>NaN</td>\n",
       "      <td>Eden House The Park</td>\n",
       "    </tr>\n",
       "    <tr>\n",
       "      <th>...</th>\n",
       "      <td>...</td>\n",
       "      <td>...</td>\n",
       "      <td>...</td>\n",
       "      <td>...</td>\n",
       "      <td>...</td>\n",
       "      <td>...</td>\n",
       "      <td>...</td>\n",
       "      <td>...</td>\n",
       "      <td>...</td>\n",
       "      <td>...</td>\n",
       "      <td>...</td>\n",
       "      <td>...</td>\n",
       "      <td>...</td>\n",
       "      <td>...</td>\n",
       "      <td>...</td>\n",
       "      <td>...</td>\n",
       "      <td>...</td>\n",
       "      <td>...</td>\n",
       "      <td>...</td>\n",
       "      <td>...</td>\n",
       "      <td>...</td>\n",
       "    </tr>\n",
       "    <tr>\n",
       "      <th>12584</th>\n",
       "      <td>9-2846-2025</td>\n",
       "      <td>2025-05-16 10:51:29</td>\n",
       "      <td>Gifts</td>\n",
       "      <td>Grant</td>\n",
       "      <td>Ready</td>\n",
       "      <td>Free Hold</td>\n",
       "      <td>Residential</td>\n",
       "      <td>BUSINESS BAY</td>\n",
       "      <td>Unit</td>\n",
       "      <td>Flat</td>\n",
       "      <td>...</td>\n",
       "      <td>217.58</td>\n",
       "      <td>2 B/R</td>\n",
       "      <td>BM - 83</td>\n",
       "      <td>Business Bay Metro Station</td>\n",
       "      <td>Dubai Mall</td>\n",
       "      <td>Burj Khalifa</td>\n",
       "      <td>0</td>\n",
       "      <td>0</td>\n",
       "      <td>NaN</td>\n",
       "      <td>NaN</td>\n",
       "    </tr>\n",
       "    <tr>\n",
       "      <th>12585</th>\n",
       "      <td>9-986-2025</td>\n",
       "      <td>2025-05-14 21:26:52</td>\n",
       "      <td>Gifts</td>\n",
       "      <td>Grant</td>\n",
       "      <td>Ready</td>\n",
       "      <td>Free Hold</td>\n",
       "      <td>Residential</td>\n",
       "      <td>Ras Al Khor Industrial Second</td>\n",
       "      <td>Land</td>\n",
       "      <td>NaN</td>\n",
       "      <td>...</td>\n",
       "      <td>5598.69</td>\n",
       "      <td>NaN</td>\n",
       "      <td>NaN</td>\n",
       "      <td>Creek Metro Station</td>\n",
       "      <td>City Centre Mirdif</td>\n",
       "      <td>Downtown Dubai</td>\n",
       "      <td>0</td>\n",
       "      <td>0</td>\n",
       "      <td>NaN</td>\n",
       "      <td>NaN</td>\n",
       "    </tr>\n",
       "    <tr>\n",
       "      <th>12586</th>\n",
       "      <td>93-6-2025</td>\n",
       "      <td>2025-05-01 12:52:13</td>\n",
       "      <td>Sales</td>\n",
       "      <td>Delayed Sell Development</td>\n",
       "      <td>Ready</td>\n",
       "      <td>Non Free Hold</td>\n",
       "      <td>Residential</td>\n",
       "      <td>SILICON OASIS</td>\n",
       "      <td>Unit</td>\n",
       "      <td>Flat</td>\n",
       "      <td>...</td>\n",
       "      <td>79.11</td>\n",
       "      <td>1 B/R</td>\n",
       "      <td>G-195</td>\n",
       "      <td>NaN</td>\n",
       "      <td>NaN</td>\n",
       "      <td>IMG World Adventures</td>\n",
       "      <td>0</td>\n",
       "      <td>0</td>\n",
       "      <td>NaN</td>\n",
       "      <td>AXIS  RESIDENCES 1</td>\n",
       "    </tr>\n",
       "    <tr>\n",
       "      <th>12587</th>\n",
       "      <td>93-7-2025</td>\n",
       "      <td>2025-05-15 08:32:14</td>\n",
       "      <td>Sales</td>\n",
       "      <td>Delayed Sell Development</td>\n",
       "      <td>Ready</td>\n",
       "      <td>Non Free Hold</td>\n",
       "      <td>Residential</td>\n",
       "      <td>SILICON OASIS</td>\n",
       "      <td>Unit</td>\n",
       "      <td>Flat</td>\n",
       "      <td>...</td>\n",
       "      <td>78.77</td>\n",
       "      <td>1 B/R</td>\n",
       "      <td>G-53</td>\n",
       "      <td>NaN</td>\n",
       "      <td>NaN</td>\n",
       "      <td>IMG World Adventures</td>\n",
       "      <td>0</td>\n",
       "      <td>0</td>\n",
       "      <td>NaN</td>\n",
       "      <td>AXIS  RESIDENCES 1</td>\n",
       "    </tr>\n",
       "    <tr>\n",
       "      <th>12588</th>\n",
       "      <td>93-8-2025</td>\n",
       "      <td>2025-05-13 14:05:03</td>\n",
       "      <td>Sales</td>\n",
       "      <td>Delayed Sell Development</td>\n",
       "      <td>Ready</td>\n",
       "      <td>Non Free Hold</td>\n",
       "      <td>Residential</td>\n",
       "      <td>SILICON OASIS</td>\n",
       "      <td>Unit</td>\n",
       "      <td>Flat</td>\n",
       "      <td>...</td>\n",
       "      <td>89.92</td>\n",
       "      <td>1 B/R</td>\n",
       "      <td>121</td>\n",
       "      <td>NaN</td>\n",
       "      <td>City Centre Mirdif</td>\n",
       "      <td>IMG World Adventures</td>\n",
       "      <td>0</td>\n",
       "      <td>0</td>\n",
       "      <td>NaN</td>\n",
       "      <td>AXIS RESIDENCES 4</td>\n",
       "    </tr>\n",
       "  </tbody>\n",
       "</table>\n",
       "<p>12589 rows × 22 columns</p>\n",
       "</div>"
      ],
      "text/plain": [
       "      TRANSACTION_NUMBER        INSTANCE_DATE GROUP_EN  \\\n",
       "0         102-11792-2025  2025-05-12 21:10:27    Sales   \n",
       "1         102-11864-2025  2025-05-01 21:09:07    Sales   \n",
       "2         102-12902-2025  2025-04-30 22:07:05    Sales   \n",
       "3         102-17904-2025  2025-05-15 22:14:18    Sales   \n",
       "4         102-22018-2025  2025-05-14 16:01:42    Sales   \n",
       "...                  ...                  ...      ...   \n",
       "12584        9-2846-2025  2025-05-16 10:51:29    Gifts   \n",
       "12585         9-986-2025  2025-05-14 21:26:52    Gifts   \n",
       "12586          93-6-2025  2025-05-01 12:52:13    Sales   \n",
       "12587          93-7-2025  2025-05-15 08:32:14    Sales   \n",
       "12588          93-8-2025  2025-05-13 14:05:03    Sales   \n",
       "\n",
       "                   PROCEDURE_EN IS_OFFPLAN_EN IS_FREE_HOLD_EN     USAGE_EN  \\\n",
       "0       Sell - Pre registration      Off-Plan       Free Hold  Residential   \n",
       "1       Sell - Pre registration      Off-Plan       Free Hold  Residential   \n",
       "2       Sell - Pre registration      Off-Plan       Free Hold  Residential   \n",
       "3       Sell - Pre registration      Off-Plan       Free Hold  Residential   \n",
       "4       Sell - Pre registration      Off-Plan       Free Hold  Residential   \n",
       "...                         ...           ...             ...          ...   \n",
       "12584                     Grant         Ready       Free Hold  Residential   \n",
       "12585                     Grant         Ready       Free Hold  Residential   \n",
       "12586  Delayed Sell Development         Ready   Non Free Hold  Residential   \n",
       "12587  Delayed Sell Development         Ready   Non Free Hold  Residential   \n",
       "12588  Delayed Sell Development         Ready   Non Free Hold  Residential   \n",
       "\n",
       "                             AREA_EN PROP_TYPE_EN PROP_SB_TYPE_EN  ...  \\\n",
       "0          JUMEIRAH VILLAGE TRIANGLE         Unit            Flat  ...   \n",
       "1          JUMEIRAH VILLAGE TRIANGLE         Unit            Flat  ...   \n",
       "2       DUBAI LAND RESIDENCE COMPLEX         Unit            Flat  ...   \n",
       "3                              ARJAN         Unit            Flat  ...   \n",
       "4                            Al Wasl         Unit            Flat  ...   \n",
       "...                              ...          ...             ...  ...   \n",
       "12584                   BUSINESS BAY         Unit            Flat  ...   \n",
       "12585  Ras Al Khor Industrial Second         Land             NaN  ...   \n",
       "12586                  SILICON OASIS         Unit            Flat  ...   \n",
       "12587                  SILICON OASIS         Unit            Flat  ...   \n",
       "12588                  SILICON OASIS         Unit            Flat  ...   \n",
       "\n",
       "       ACTUAL_AREA  ROOMS_EN  PARKING            NEAREST_METRO_EN  \\\n",
       "0            67.91     1 B/R        1       Nakheel Metro Station   \n",
       "1            67.91     1 B/R        1       Nakheel Metro Station   \n",
       "2            40.52    Studio        1                         NaN   \n",
       "3            42.29    Studio        1     Sharaf Dg Metro Station   \n",
       "4           127.29     2 B/R        1                         NaN   \n",
       "...            ...       ...      ...                         ...   \n",
       "12584       217.58     2 B/R  BM - 83  Business Bay Metro Station   \n",
       "12585      5598.69       NaN      NaN         Creek Metro Station   \n",
       "12586        79.11     1 B/R    G-195                         NaN   \n",
       "12587        78.77     1 B/R     G-53                         NaN   \n",
       "12588        89.92     1 B/R      121                         NaN   \n",
       "\n",
       "            NEAREST_MALL_EN           NEAREST_LANDMARK_EN TOTAL_BUYER  \\\n",
       "0               Marina Mall  Sports City Swimming Academy           0   \n",
       "1               Marina Mall  Sports City Swimming Academy           0   \n",
       "2                       NaN          IMG World Adventures           0   \n",
       "3      Mall of the Emirates                    Motor City           0   \n",
       "4                       NaN                           NaN           0   \n",
       "...                     ...                           ...         ...   \n",
       "12584            Dubai Mall                  Burj Khalifa           0   \n",
       "12585    City Centre Mirdif                Downtown Dubai           0   \n",
       "12586                   NaN          IMG World Adventures           0   \n",
       "12587                   NaN          IMG World Adventures           0   \n",
       "12588    City Centre Mirdif          IMG World Adventures           0   \n",
       "\n",
       "      TOTAL_SELLER  MASTER_PROJECT_EN            PROJECT_EN  \n",
       "0                0                NaN  THE VYNE RESIDENCES   \n",
       "1                0                NaN  THE VYNE RESIDENCES   \n",
       "2                0                NaN   Samana Park Meadows  \n",
       "3                0                NaN    Parkside Boulevard  \n",
       "4                0                NaN   Eden House The Park  \n",
       "...            ...                ...                   ...  \n",
       "12584            0                NaN                   NaN  \n",
       "12585            0                NaN                   NaN  \n",
       "12586            0                NaN    AXIS  RESIDENCES 1  \n",
       "12587            0                NaN    AXIS  RESIDENCES 1  \n",
       "12588            0                NaN     AXIS RESIDENCES 4  \n",
       "\n",
       "[12589 rows x 22 columns]"
      ]
     },
     "execution_count": 21,
     "metadata": {},
     "output_type": "execute_result"
    }
   ],
   "source": [
    "#load data\n",
    "df=pd.read_csv(\"transactions-2025-05-19.csv\")\n",
    "df"
   ]
  },
  {
   "cell_type": "code",
   "execution_count": 3,
   "metadata": {
    "colab": {
     "base_uri": "https://localhost:8080/",
     "height": 429
    },
    "id": "aJZdxJ2aCJBq",
    "outputId": "edee3da7-a45a-4013-e72a-576ad4a6b930"
   },
   "outputs": [
    {
     "data": {
      "text/html": [
       "<div>\n",
       "<style scoped>\n",
       "    .dataframe tbody tr th:only-of-type {\n",
       "        vertical-align: middle;\n",
       "    }\n",
       "\n",
       "    .dataframe tbody tr th {\n",
       "        vertical-align: top;\n",
       "    }\n",
       "\n",
       "    .dataframe thead th {\n",
       "        text-align: right;\n",
       "    }\n",
       "</style>\n",
       "<table border=\"1\" class=\"dataframe\">\n",
       "  <thead>\n",
       "    <tr style=\"text-align: right;\">\n",
       "      <th></th>\n",
       "      <th>TRANSACTION_NUMBER</th>\n",
       "      <th>INSTANCE_DATE</th>\n",
       "      <th>GROUP_EN</th>\n",
       "      <th>PROCEDURE_EN</th>\n",
       "      <th>IS_OFFPLAN_EN</th>\n",
       "      <th>IS_FREE_HOLD_EN</th>\n",
       "      <th>USAGE_EN</th>\n",
       "      <th>AREA_EN</th>\n",
       "      <th>PROP_TYPE_EN</th>\n",
       "      <th>PROP_SB_TYPE_EN</th>\n",
       "      <th>...</th>\n",
       "      <th>ACTUAL_AREA</th>\n",
       "      <th>ROOMS_EN</th>\n",
       "      <th>PARKING</th>\n",
       "      <th>NEAREST_METRO_EN</th>\n",
       "      <th>NEAREST_MALL_EN</th>\n",
       "      <th>NEAREST_LANDMARK_EN</th>\n",
       "      <th>TOTAL_BUYER</th>\n",
       "      <th>TOTAL_SELLER</th>\n",
       "      <th>MASTER_PROJECT_EN</th>\n",
       "      <th>PROJECT_EN</th>\n",
       "    </tr>\n",
       "  </thead>\n",
       "  <tbody>\n",
       "    <tr>\n",
       "      <th>12584</th>\n",
       "      <td>9-2846-2025</td>\n",
       "      <td>2025-05-16 10:51:29</td>\n",
       "      <td>Gifts</td>\n",
       "      <td>Grant</td>\n",
       "      <td>Ready</td>\n",
       "      <td>Free Hold</td>\n",
       "      <td>Residential</td>\n",
       "      <td>BUSINESS BAY</td>\n",
       "      <td>Unit</td>\n",
       "      <td>Flat</td>\n",
       "      <td>...</td>\n",
       "      <td>217.58</td>\n",
       "      <td>2 B/R</td>\n",
       "      <td>BM - 83</td>\n",
       "      <td>Business Bay Metro Station</td>\n",
       "      <td>Dubai Mall</td>\n",
       "      <td>Burj Khalifa</td>\n",
       "      <td>0</td>\n",
       "      <td>0</td>\n",
       "      <td>NaN</td>\n",
       "      <td>NaN</td>\n",
       "    </tr>\n",
       "    <tr>\n",
       "      <th>12585</th>\n",
       "      <td>9-986-2025</td>\n",
       "      <td>2025-05-14 21:26:52</td>\n",
       "      <td>Gifts</td>\n",
       "      <td>Grant</td>\n",
       "      <td>Ready</td>\n",
       "      <td>Free Hold</td>\n",
       "      <td>Residential</td>\n",
       "      <td>Ras Al Khor Industrial Second</td>\n",
       "      <td>Land</td>\n",
       "      <td>NaN</td>\n",
       "      <td>...</td>\n",
       "      <td>5598.69</td>\n",
       "      <td>NaN</td>\n",
       "      <td>NaN</td>\n",
       "      <td>Creek Metro Station</td>\n",
       "      <td>City Centre Mirdif</td>\n",
       "      <td>Downtown Dubai</td>\n",
       "      <td>0</td>\n",
       "      <td>0</td>\n",
       "      <td>NaN</td>\n",
       "      <td>NaN</td>\n",
       "    </tr>\n",
       "    <tr>\n",
       "      <th>12586</th>\n",
       "      <td>93-6-2025</td>\n",
       "      <td>2025-05-01 12:52:13</td>\n",
       "      <td>Sales</td>\n",
       "      <td>Delayed Sell Development</td>\n",
       "      <td>Ready</td>\n",
       "      <td>Non Free Hold</td>\n",
       "      <td>Residential</td>\n",
       "      <td>SILICON OASIS</td>\n",
       "      <td>Unit</td>\n",
       "      <td>Flat</td>\n",
       "      <td>...</td>\n",
       "      <td>79.11</td>\n",
       "      <td>1 B/R</td>\n",
       "      <td>G-195</td>\n",
       "      <td>NaN</td>\n",
       "      <td>NaN</td>\n",
       "      <td>IMG World Adventures</td>\n",
       "      <td>0</td>\n",
       "      <td>0</td>\n",
       "      <td>NaN</td>\n",
       "      <td>AXIS  RESIDENCES 1</td>\n",
       "    </tr>\n",
       "    <tr>\n",
       "      <th>12587</th>\n",
       "      <td>93-7-2025</td>\n",
       "      <td>2025-05-15 08:32:14</td>\n",
       "      <td>Sales</td>\n",
       "      <td>Delayed Sell Development</td>\n",
       "      <td>Ready</td>\n",
       "      <td>Non Free Hold</td>\n",
       "      <td>Residential</td>\n",
       "      <td>SILICON OASIS</td>\n",
       "      <td>Unit</td>\n",
       "      <td>Flat</td>\n",
       "      <td>...</td>\n",
       "      <td>78.77</td>\n",
       "      <td>1 B/R</td>\n",
       "      <td>G-53</td>\n",
       "      <td>NaN</td>\n",
       "      <td>NaN</td>\n",
       "      <td>IMG World Adventures</td>\n",
       "      <td>0</td>\n",
       "      <td>0</td>\n",
       "      <td>NaN</td>\n",
       "      <td>AXIS  RESIDENCES 1</td>\n",
       "    </tr>\n",
       "    <tr>\n",
       "      <th>12588</th>\n",
       "      <td>93-8-2025</td>\n",
       "      <td>2025-05-13 14:05:03</td>\n",
       "      <td>Sales</td>\n",
       "      <td>Delayed Sell Development</td>\n",
       "      <td>Ready</td>\n",
       "      <td>Non Free Hold</td>\n",
       "      <td>Residential</td>\n",
       "      <td>SILICON OASIS</td>\n",
       "      <td>Unit</td>\n",
       "      <td>Flat</td>\n",
       "      <td>...</td>\n",
       "      <td>89.92</td>\n",
       "      <td>1 B/R</td>\n",
       "      <td>121</td>\n",
       "      <td>NaN</td>\n",
       "      <td>City Centre Mirdif</td>\n",
       "      <td>IMG World Adventures</td>\n",
       "      <td>0</td>\n",
       "      <td>0</td>\n",
       "      <td>NaN</td>\n",
       "      <td>AXIS RESIDENCES 4</td>\n",
       "    </tr>\n",
       "  </tbody>\n",
       "</table>\n",
       "<p>5 rows × 22 columns</p>\n",
       "</div>"
      ],
      "text/plain": [
       "      TRANSACTION_NUMBER        INSTANCE_DATE GROUP_EN  \\\n",
       "12584        9-2846-2025  2025-05-16 10:51:29    Gifts   \n",
       "12585         9-986-2025  2025-05-14 21:26:52    Gifts   \n",
       "12586          93-6-2025  2025-05-01 12:52:13    Sales   \n",
       "12587          93-7-2025  2025-05-15 08:32:14    Sales   \n",
       "12588          93-8-2025  2025-05-13 14:05:03    Sales   \n",
       "\n",
       "                   PROCEDURE_EN IS_OFFPLAN_EN IS_FREE_HOLD_EN     USAGE_EN  \\\n",
       "12584                     Grant         Ready       Free Hold  Residential   \n",
       "12585                     Grant         Ready       Free Hold  Residential   \n",
       "12586  Delayed Sell Development         Ready   Non Free Hold  Residential   \n",
       "12587  Delayed Sell Development         Ready   Non Free Hold  Residential   \n",
       "12588  Delayed Sell Development         Ready   Non Free Hold  Residential   \n",
       "\n",
       "                             AREA_EN PROP_TYPE_EN PROP_SB_TYPE_EN  ...  \\\n",
       "12584                   BUSINESS BAY         Unit            Flat  ...   \n",
       "12585  Ras Al Khor Industrial Second         Land             NaN  ...   \n",
       "12586                  SILICON OASIS         Unit            Flat  ...   \n",
       "12587                  SILICON OASIS         Unit            Flat  ...   \n",
       "12588                  SILICON OASIS         Unit            Flat  ...   \n",
       "\n",
       "       ACTUAL_AREA  ROOMS_EN  PARKING            NEAREST_METRO_EN  \\\n",
       "12584       217.58     2 B/R  BM - 83  Business Bay Metro Station   \n",
       "12585      5598.69       NaN      NaN         Creek Metro Station   \n",
       "12586        79.11     1 B/R    G-195                         NaN   \n",
       "12587        78.77     1 B/R     G-53                         NaN   \n",
       "12588        89.92     1 B/R      121                         NaN   \n",
       "\n",
       "          NEAREST_MALL_EN   NEAREST_LANDMARK_EN TOTAL_BUYER TOTAL_SELLER  \\\n",
       "12584          Dubai Mall          Burj Khalifa           0            0   \n",
       "12585  City Centre Mirdif        Downtown Dubai           0            0   \n",
       "12586                 NaN  IMG World Adventures           0            0   \n",
       "12587                 NaN  IMG World Adventures           0            0   \n",
       "12588  City Centre Mirdif  IMG World Adventures           0            0   \n",
       "\n",
       "       MASTER_PROJECT_EN          PROJECT_EN  \n",
       "12584                NaN                 NaN  \n",
       "12585                NaN                 NaN  \n",
       "12586                NaN  AXIS  RESIDENCES 1  \n",
       "12587                NaN  AXIS  RESIDENCES 1  \n",
       "12588                NaN   AXIS RESIDENCES 4  \n",
       "\n",
       "[5 rows x 22 columns]"
      ]
     },
     "execution_count": 3,
     "metadata": {},
     "output_type": "execute_result"
    }
   ],
   "source": [
    "df.tail()"
   ]
  },
  {
   "cell_type": "code",
   "execution_count": 4,
   "metadata": {
    "id": "Li65FYZHHxDL"
   },
   "outputs": [],
   "source": [
    "#convert date column\n",
    "df['INSTANCE_DATE']=pd.to_datetime(df['INSTANCE_DATE'])"
   ]
  },
  {
   "cell_type": "code",
   "execution_count": 5,
   "metadata": {
    "colab": {
     "base_uri": "https://localhost:8080/"
    },
    "id": "FMySF2fpqT44",
    "outputId": "f9567b25-33f1-490e-cf44-f12f34e18772"
   },
   "outputs": [
    {
     "data": {
      "text/plain": [
       "(12589, 22)"
      ]
     },
     "execution_count": 5,
     "metadata": {},
     "output_type": "execute_result"
    }
   ],
   "source": [
    "#Shape\n",
    "df.shape"
   ]
  },
  {
   "cell_type": "code",
   "execution_count": 6,
   "metadata": {
    "colab": {
     "base_uri": "https://localhost:8080/"
    },
    "id": "TufZdWLEIMCa",
    "outputId": "9cacd5f6-232a-4219-ec89-47f4a77323ea"
   },
   "outputs": [
    {
     "name": "stdout",
     "output_type": "stream",
     "text": [
      "<class 'pandas.core.frame.DataFrame'>\n",
      "RangeIndex: 12589 entries, 0 to 12588\n",
      "Data columns (total 22 columns):\n",
      " #   Column               Non-Null Count  Dtype         \n",
      "---  ------               --------------  -----         \n",
      " 0   TRANSACTION_NUMBER   12589 non-null  object        \n",
      " 1   INSTANCE_DATE        12589 non-null  datetime64[ns]\n",
      " 2   GROUP_EN             12589 non-null  object        \n",
      " 3   PROCEDURE_EN         12589 non-null  object        \n",
      " 4   IS_OFFPLAN_EN        12589 non-null  object        \n",
      " 5   IS_FREE_HOLD_EN      12589 non-null  object        \n",
      " 6   USAGE_EN             12589 non-null  object        \n",
      " 7   AREA_EN              12589 non-null  object        \n",
      " 8   PROP_TYPE_EN         12589 non-null  object        \n",
      " 9   PROP_SB_TYPE_EN      11943 non-null  object        \n",
      " 10  TRANS_VALUE          12589 non-null  float64       \n",
      " 11  PROCEDURE_AREA       12589 non-null  float64       \n",
      " 12  ACTUAL_AREA          12589 non-null  float64       \n",
      " 13  ROOMS_EN             10320 non-null  object        \n",
      " 14  PARKING              9440 non-null   object        \n",
      " 15  NEAREST_METRO_EN     6645 non-null   object        \n",
      " 16  NEAREST_MALL_EN      6430 non-null   object        \n",
      " 17  NEAREST_LANDMARK_EN  8208 non-null   object        \n",
      " 18  TOTAL_BUYER          12589 non-null  int64         \n",
      " 19  TOTAL_SELLER         12589 non-null  int64         \n",
      " 20  MASTER_PROJECT_EN    26 non-null     object        \n",
      " 21  PROJECT_EN           10539 non-null  object        \n",
      "dtypes: datetime64[ns](1), float64(3), int64(2), object(16)\n",
      "memory usage: 2.1+ MB\n",
      "None\n",
      "--------------------------------------------------\n",
      "                       INSTANCE_DATE   TRANS_VALUE  PROCEDURE_AREA  \\\n",
      "count                          12589  1.258900e+04    12589.000000   \n",
      "mean   2025-05-09 01:46:16.698149120  3.562248e+06      252.905630   \n",
      "min              2025-04-30 15:15:10  9.000000e+03        6.700000   \n",
      "25%              2025-05-05 13:49:05  9.000000e+05       65.400000   \n",
      "50%              2025-05-08 13:17:26  1.525000e+06       95.110000   \n",
      "75%              2025-05-13 12:23:48  2.881888e+06      166.600000   \n",
      "max              2025-05-16 11:44:57  8.266683e+08    42068.240000   \n",
      "std                              NaN  1.284717e+07     1187.462375   \n",
      "\n",
      "        ACTUAL_AREA  TOTAL_BUYER  TOTAL_SELLER  \n",
      "count  12589.000000      12589.0       12589.0  \n",
      "mean     254.630980          0.0           0.0  \n",
      "min        7.720000          0.0           0.0  \n",
      "25%       66.140000          0.0           0.0  \n",
      "50%       96.200000          0.0           0.0  \n",
      "75%      167.760000          0.0           0.0  \n",
      "max    42068.240000          0.0           0.0  \n",
      "std     1188.644228          0.0           0.0  \n",
      "--------------------------------------------------\n",
      "TRANSACTION_NUMBER         0\n",
      "INSTANCE_DATE              0\n",
      "GROUP_EN                   0\n",
      "PROCEDURE_EN               0\n",
      "IS_OFFPLAN_EN              0\n",
      "IS_FREE_HOLD_EN            0\n",
      "USAGE_EN                   0\n",
      "AREA_EN                    0\n",
      "PROP_TYPE_EN               0\n",
      "PROP_SB_TYPE_EN          646\n",
      "TRANS_VALUE                0\n",
      "PROCEDURE_AREA             0\n",
      "ACTUAL_AREA                0\n",
      "ROOMS_EN                2269\n",
      "PARKING                 3149\n",
      "NEAREST_METRO_EN        5944\n",
      "NEAREST_MALL_EN         6159\n",
      "NEAREST_LANDMARK_EN     4381\n",
      "TOTAL_BUYER                0\n",
      "TOTAL_SELLER               0\n",
      "MASTER_PROJECT_EN      12563\n",
      "PROJECT_EN              2050\n",
      "dtype: int64\n"
     ]
    }
   ],
   "source": [
    "#view basic info\n",
    "print(df.info())\n",
    "print('--'*25)\n",
    "print(df.describe())\n",
    "print('--'*25)\n",
    "print(df.isnull().sum())"
   ]
  },
  {
   "cell_type": "code",
   "execution_count": 7,
   "metadata": {
    "colab": {
     "base_uri": "https://localhost:8080/",
     "height": 210
    },
    "id": "U-imx_ECdTXs",
    "outputId": "ff2bd648-ebe7-417d-969d-6dbf08894233"
   },
   "outputs": [
    {
     "data": {
      "text/plain": [
       "PROP_TYPE_EN\n",
       "Unit        9663\n",
       "Land        2145\n",
       "Building     781\n",
       "Name: count, dtype: int64"
      ]
     },
     "execution_count": 7,
     "metadata": {},
     "output_type": "execute_result"
    }
   ],
   "source": [
    "#target classification\n",
    "df.value_counts(\"PROP_TYPE_EN\")"
   ]
  },
  {
   "cell_type": "markdown",
   "metadata": {
    "id": "fjcenyTgJl3o"
   },
   "source": [
    "\n",
    "\n",
    "**STEP 2 : EXPLORATORY DATA ANALYSIS**"
   ]
  },
  {
   "cell_type": "markdown",
   "metadata": {
    "id": "NAJ1auCYmFzC"
   },
   "source": [
    "HISTOGRAM"
   ]
  },
  {
   "cell_type": "code",
   "execution_count": 8,
   "metadata": {
    "colab": {
     "base_uri": "https://localhost:8080/",
     "height": 507
    },
    "id": "ykT5lT9pFMUn",
    "outputId": "0a11a2b9-1ff9-43f7-b794-12178f81e641"
   },
   "outputs": [
    {
     "data": {
      "image/png": "[encoded data removed]",
      "text/plain": [
       "<Figure size 800x500 with 1 Axes>"
      ]
     },
     "metadata": {},
     "output_type": "display_data"
    }
   ],
   "source": [
    "# HISTOGRAM - DISTRIBUTION OF NUMERICAL COLUMN\n",
    "# Aim: To visualize the distribution of the actual_area (property size)\n",
    "\n",
    "plt.figure(figsize=(8,5))\n",
    "sns.histplot(df['ACTUAL_AREA'].dropna(),kde=True,bins=30)\n",
    "plt.title(\"Distribution of Actual Area\")\n",
    "plt.xlabel(\"Actual Area\")\n",
    "plt.ylabel(\"Frequency\")\n",
    "plt.tight_layout()\n",
    "plt.show()"
   ]
  },
  {
   "cell_type": "code",
   "execution_count": 9,
   "metadata": {
    "colab": {
     "base_uri": "https://localhost:8080/",
     "height": 507
    },
    "id": "GdV03hraNc06",
    "outputId": "a052c99f-dc29-4e9d-952f-bee9ecd9386f"
   },
   "outputs": [
    {
     "data": {
      "image/png": "[encoded data removed]",
      "text/plain": [
       "<Figure size 800x500 with 1 Axes>"
      ]
     },
     "metadata": {},
     "output_type": "display_data"
    }
   ],
   "source": [
    "#output:\n",
    "#1.Most values are clustered on the left (between 0 and 1000 sq.m): most properties are in small size (over 30000 properties)\n",
    "#2.Right skewed distribution: long tail to the right, indicating very few large propertiess(upto 40,000 sq.m)\n",
    "#these large values are outliers and can distort model training\n",
    "#so log transformation is applied to reduce the effect of extreme values\n",
    "\n",
    "df['Log_Area']=np.log1p(df['ACTUAL_AREA'])  #log1p handles 0 values too\n",
    "\n",
    "#plot again with Log_Area to get a clearer view\n",
    "\n",
    "plt.figure(figsize=(8,5))\n",
    "sns.histplot(df['Log_Area'],kde=True,bins=30)\n",
    "plt.title(\"Distribution of Actual Area\")\n",
    "plt.xlabel(\"Log Area\")\n",
    "plt.ylabel(\"Frequency\")\n",
    "plt.tight_layout()\n",
    "plt.show()"
   ]
  },
  {
   "cell_type": "markdown",
   "metadata": {
    "id": "CTqhVC76mKZq"
   },
   "source": [
    "PAIR PLOT"
   ]
  },
  {
   "cell_type": "code",
   "execution_count": 10,
   "metadata": {
    "colab": {
     "base_uri": "https://localhost:8080/",
     "height": 532
    },
    "id": "olyIruwjmBFz",
    "outputId": "e0f9fa5b-7b55-4fe3-e2c6-8a3a2cde9c23"
   },
   "outputs": [
    {
     "data": {
      "image/png": "[encoded data removed]",
      "text/plain": [
       "<Figure size 616.111x500 with 5 Axes>"
      ]
     },
     "metadata": {},
     "output_type": "display_data"
    }
   ],
   "source": [
    "#Pair plot: To visualize relationship between multiple numeric features and how they vary across the target classes\n",
    "\n",
    "#Select a subset of numeric features + the target\n",
    "df['PARKING']=df['PARKING'].fillna(0)\n",
    "plot_df=df[['ACTUAL_AREA','PARKING','TRANS_VALUE','PROP_TYPE_EN']]\n",
    "\n",
    "#Log transform to manage skewness\n",
    "plot_df['LOG_AREA']=np.log1p(plot_df['ACTUAL_AREA'])\n",
    "plot_df['LOG_VALUE']=np.log1p(plot_df['TRANS_VALUE'])\n",
    "\n",
    "#replce prop_type_en to string\n",
    "plot_df['PROP_TYPE_EN']=plot_df['PROP_TYPE_EN'].astype(str)\n",
    "\n",
    "#PAIRPLOT\n",
    "sns.pairplot(plot_df[['LOG_AREA','PARKING','LOG_VALUE','PROP_TYPE_EN']],hue='PROP_TYPE_EN',palette='Set2',corner =True)\n",
    "plt.suptitle(\"Pairplot of Area, Parking, and Transaction Value\",y=1.02)\n",
    "plt.tight_layout()\n",
    "plt.show()"
   ]
  },
  {
   "cell_type": "code",
   "execution_count": 11,
   "metadata": {
    "colab": {
     "base_uri": "https://localhost:8080/",
     "height": 1000
    },
    "id": "0k00XFUW1m_J",
    "outputId": "d1de19dd-ba30-4580-ec47-f9a92fd53c2c"
   },
   "outputs": [
    {
     "data": {
      "image/png": "[encoded data removed]",
      "text/plain": [
       "<Figure size 1116.11x1000 with 20 Axes>"
      ]
     },
     "metadata": {},
     "output_type": "display_data"
    }
   ],
   "source": [
    "# Select features that exist for all property types (especially Land)\n",
    "pairplot_df = df[['TRANS_VALUE', 'ACTUAL_AREA', 'TOTAL_BUYER', 'TOTAL_SELLER', 'PROP_TYPE_EN']].copy()\n",
    "\n",
    "# Ensure numerical types and drop rows with missing values\n",
    "pairplot_df = pairplot_df.apply(pd.to_numeric, errors='coerce')\n",
    "pairplot_df['PROP_TYPE_EN'] = df['PROP_TYPE_EN']\n",
    "pairplot_df.dropna(inplace=True)\n",
    "\n",
    "# Create the pairplot\n",
    "sns.pairplot(pairplot_df, hue='PROP_TYPE_EN', palette='Set1', diag_kind='hist')\n",
    "plt.suptitle(\"Pairplot Including Land (No ROOMS_EN)\", y=1.02)\n",
    "plt.show()\n"
   ]
  },
  {
   "cell_type": "markdown",
   "metadata": {
    "id": "AkB4yKQRZ1Zx"
   },
   "source": [
    "BOX PLOT"
   ]
  },
  {
   "cell_type": "code",
   "execution_count": 12,
   "metadata": {
    "colab": {
     "base_uri": "https://localhost:8080/",
     "height": 520
    },
    "id": "BTGrFCIdZynG",
    "outputId": "526398f7-75ff-415c-c6db-8f66ea156217"
   },
   "outputs": [
    {
     "data": {
      "image/png": "[encoded data removed]",
      "text/plain": [
       "<Figure size 2000x600 with 2 Axes>"
      ]
     },
     "metadata": {},
     "output_type": "display_data"
    }
   ],
   "source": [
    "#CREATE SUBPLOTS\n",
    "fig,axes=plt.subplots(1,2,figsize=(20,6),sharex=False)\n",
    "\n",
    "#boxplot 1: Log Actual Area\n",
    "sns.boxplot(data=plot_df, x='PROP_TYPE_EN',y='LOG_AREA', ax=axes[0])\n",
    "axes[0].set_title('Log(Actual Area) by Property Type')\n",
    "axes[0].set_xlabel(''); axes[0].set_ylabel('Log(Area)')\n",
    "axes[0].tick_params(axis='x', rotation=45)\n",
    "\n",
    "# Boxplot 2: Log Transaction Value\n",
    "sns.boxplot(data=plot_df, x='PROP_TYPE_EN', y='LOG_VALUE', ax=axes[1])\n",
    "axes[1].set_title('Log(Transaction Value) by Property Type')\n",
    "axes[1].set_xlabel(''); axes[1].set_ylabel('Log(Value)')\n",
    "axes[1].tick_params(axis='x', rotation=45)\n",
    "\n",
    "plt.tight_layout()\n",
    "plt.show()"
   ]
  },
  {
   "cell_type": "markdown",
   "metadata": {
    "id": "W3jrIQSWu2mo"
   },
   "source": [
    "PIVOT PLOT"
   ]
  },
  {
   "cell_type": "code",
   "execution_count": 13,
   "metadata": {
    "colab": {
     "base_uri": "https://localhost:8080/",
     "height": 482
    },
    "id": "iS8Vcoebuvk6",
    "outputId": "8e92402e-b30a-411a-b883-31cccefacaac"
   },
   "outputs": [
    {
     "data": {
      "text/plain": [
       "<Axes: xlabel='USAGE_EN', ylabel='PROP_TYPE_EN'>"
      ]
     },
     "execution_count": 13,
     "metadata": {},
     "output_type": "execute_result"
    },
    {
     "data": {
      "image/png": "[encoded data removed]",
      "text/plain": [
       "<Figure size 640x480 with 2 Axes>"
      ]
     },
     "metadata": {},
     "output_type": "display_data"
    }
   ],
   "source": [
    "# Create a pivot table\n",
    "pivot_table = pd.pivot_table(\n",
    "    df,\n",
    "    values='TRANS_VALUE',\n",
    "    index='PROP_TYPE_EN',\n",
    "    columns='USAGE_EN',\n",
    "    aggfunc='mean'\n",
    ")\n",
    "\n",
    "# Plot the pivot table as a heatmap\n",
    "sns.heatmap(pivot_table, annot=True, fmt=\".0f\", cmap=\"YlGnBu\")\n"
   ]
  },
  {
   "cell_type": "markdown",
   "metadata": {
    "id": "xsBDbiqVzySJ"
   },
   "source": [
    "CORRELATION HEATMAP"
   ]
  },
  {
   "cell_type": "code",
   "execution_count": 14,
   "metadata": {
    "colab": {
     "base_uri": "https://localhost:8080/",
     "height": 801
    },
    "id": "re8GD9Buz2gA",
    "outputId": "69b31cc6-4692-44e7-a2e3-fb397b0c9df5"
   },
   "outputs": [
    {
     "data": {
      "image/png": "[encoded data removed]",
      "text/plain": [
       "<Figure size 1000x800 with 2 Axes>"
      ]
     },
     "metadata": {},
     "output_type": "display_data"
    }
   ],
   "source": [
    "# Make a copy of the original DataFrame to avoid modifying it directly\n",
    "eda_df = df.copy()\n",
    "\n",
    "# Extract number of rooms from 'ROOMS_EN' and convert to numeric\n",
    "eda_df['ROOMS_EN'] = eda_df['ROOMS_EN'].str.extract('(\\d+)').astype(float)\n",
    "\n",
    "# Select only numerical columns for correlation analysis\n",
    "numerical_cols = eda_df.select_dtypes(include=[np.number]).columns.tolist()\n",
    "\n",
    "# Compute the correlation matrix\n",
    "corr_matrix = eda_df[numerical_cols].corr()\n",
    "\n",
    "# Set the plot style\n",
    "sns.set(style=\"whitegrid\")\n",
    "\n",
    "# Create and display the heatmap\n",
    "plt.figure(figsize=(10, 8))\n",
    "sns.heatmap(corr_matrix, annot=True, fmt=\".2f\", cmap=\"coolwarm\", square=True)\n",
    "plt.title(\"Correlation Heatmap\")\n",
    "plt.tight_layout()\n",
    "plt.show()\n"
   ]
  },
  {
   "cell_type": "markdown",
   "metadata": {
    "id": "2BgBzxwo3n6j"
   },
   "source": [
    "COUNT PLOT"
   ]
  },
  {
   "cell_type": "code",
   "execution_count": 15,
   "metadata": {
    "colab": {
     "base_uri": "https://localhost:8080/",
     "height": 601
    },
    "id": "R5EeNl-Z3rSF",
    "outputId": "febeddcf-b92f-4171-c59e-0f6bf416d910"
   },
   "outputs": [
    {
     "data": {
      "image/png": "[encoded data removed]",
      "text/plain": [
       "<Figure size 800x600 with 1 Axes>"
      ]
     },
     "metadata": {},
     "output_type": "display_data"
    }
   ],
   "source": [
    "plt.figure(figsize=(8, 6))  # Set plot size\n",
    "sns.countplot(data=df, x='PROP_TYPE_EN', palette='Set2')  # Create a count plot of PROP_TYPE_EN\n",
    "plt.title('Count of Each Property Type (PROP_TYPE_EN)')  # Title\n",
    "plt.xlabel('Property Type')  # X-axis label\n",
    "plt.ylabel('Count')  # Y-axis label\n",
    "plt.tight_layout()  # Adjust layout\n",
    "plt.show()  # Display plot"
   ]
  },
  {
   "cell_type": "markdown",
   "metadata": {
    "id": "Y2uSK9VETEcP"
   },
   "source": [
    "**STEP 3: DATA PREPROCESSING**"
   ]
  },
  {
   "cell_type": "markdown",
   "metadata": {
    "id": "8dAl2oFu_DF-"
   },
   "source": [
    "DROP, REMOVE NAN, REMOVE OUTLIERS, ENCODE, SPLIT AND TRAIN"
   ]
  },
  {
   "cell_type": "code",
   "execution_count": 16,
   "metadata": {
    "id": "0e1neUvXi1cM"
   },
   "outputs": [],
   "source": [
    "df.drop(\"Log_Area\", axis=1,inplace=True)"
   ]
  },
  {
   "cell_type": "code",
   "execution_count": 22,
   "metadata": {
    "colab": {
     "base_uri": "https://localhost:8080/"
    },
    "id": "x5oFaPsXnoNN",
    "outputId": "78a683b5-a936-4bdc-fcc7-657306706f8b"
   },
   "outputs": [
    {
     "name": "stdout",
     "output_type": "stream",
     "text": [
      "Defaulting to user installation because normal site-packages is not writeable\n",
      "Requirement already satisfied: category_encoders in c:\\users\\admin\\appdata\\roaming\\python\\python312\\site-packages (2.8.1)\n",
      "Requirement already satisfied: numpy>=1.14.0 in c:\\programdata\\anaconda3\\lib\\site-packages (from category_encoders) (1.26.4)\n",
      "Requirement already satisfied: pandas>=1.0.5 in c:\\programdata\\anaconda3\\lib\\site-packages (from category_encoders) (2.2.2)\n",
      "Requirement already satisfied: patsy>=0.5.1 in c:\\programdata\\anaconda3\\lib\\site-packages (from category_encoders) (0.5.6)\n",
      "Requirement already satisfied: scikit-learn>=1.6.0 in c:\\users\\admin\\appdata\\roaming\\python\\python312\\site-packages (from category_encoders) (1.6.1)\n",
      "Requirement already satisfied: scipy>=1.0.0 in c:\\programdata\\anaconda3\\lib\\site-packages (from category_encoders) (1.13.1)\n",
      "Requirement already satisfied: statsmodels>=0.9.0 in c:\\programdata\\anaconda3\\lib\\site-packages (from category_encoders) (0.14.2)\n",
      "Requirement already satisfied: python-dateutil>=2.8.2 in c:\\programdata\\anaconda3\\lib\\site-packages (from pandas>=1.0.5->category_encoders) (2.9.0.post0)\n",
      "Requirement already satisfied: pytz>=2020.1 in c:\\programdata\\anaconda3\\lib\\site-packages (from pandas>=1.0.5->category_encoders) (2024.1)\n",
      "Requirement already satisfied: tzdata>=2022.7 in c:\\programdata\\anaconda3\\lib\\site-packages (from pandas>=1.0.5->category_encoders) (2023.3)\n",
      "Requirement already satisfied: six in c:\\programdata\\anaconda3\\lib\\site-packages (from patsy>=0.5.1->category_encoders) (1.16.0)\n",
      "Requirement already satisfied: joblib>=1.2.0 in c:\\programdata\\anaconda3\\lib\\site-packages (from scikit-learn>=1.6.0->category_encoders) (1.4.2)\n",
      "Requirement already satisfied: threadpoolctl>=3.1.0 in c:\\programdata\\anaconda3\\lib\\site-packages (from scikit-learn>=1.6.0->category_encoders) (3.5.0)\n",
      "Requirement already satisfied: packaging>=21.3 in c:\\programdata\\anaconda3\\lib\\site-packages (from statsmodels>=0.9.0->category_encoders) (24.1)\n"
     ]
    }
   ],
   "source": [
    "!pip install category_encoders\n",
    "from category_encoders import TargetEncoder\n",
    "import category_encoders as ce\n",
    "from sklearn.model_selection import train_test_split, cross_val_score, GridSearchCV\n",
    "from sklearn.preprocessing import StandardScaler, LabelEncoder\n",
    "\n",
    "# Drop irrelevant columns\n",
    "df.drop(columns=[\"TRANSACTION_NUMBER\", \"INSTANCE_DATE\", \"GROUP_EN\", \"USAGE_EN\",\"PROCEDURE_AREA\",\"TOTAL_BUYER\",\"TOTAL_SELLER\",\"MASTER_PROJECT_EN\"], inplace=True)\n",
    "\n",
    "# Encode and Separate target\n",
    "target={'Unit':0, 'Building':1, 'Land':2}\n",
    "df[\"PROP_TYPE_EN\"]=df[\"PROP_TYPE_EN\"].map(target)\n",
    "\n",
    "y=df[\"PROP_TYPE_EN\"]\n",
    "x = df.drop(columns=[\"PROP_TYPE_EN\"])\n",
    "\n",
    "# Manual mapping for ROOMS_EN\n",
    "room_mapping = {\n",
    "    \"Studio\": 0, \"1 B/R\": 1, \"2 B/R\": 2, \"3 B/R\": 3,\n",
    "    \"4 B/R\": 4, \"5 B/R\": 5, \"6 B/R\": 6, \"7 B/R\": 7,\n",
    "    \"8 B/R\": 8, \"9 B/R\": 9, \"10 B/R\": 10, \"Missing\": -1\n",
    "}\n",
    "x[\"ROOMS_EN\"] = x[\"ROOMS_EN\"].map(room_mapping).fillna(-1)\n",
    "\n",
    "#label encode IS_OFFPLAN_EN\n",
    "le = LabelEncoder()\n",
    "x[\"IS_OFFPLAN_EN\"] = le.fit_transform(x[\"IS_OFFPLAN_EN\"])\n",
    "\n",
    "#map is freehold\n",
    "f_map={\"Free Hold\":1,\"Non Free Hold\":0}\n",
    "x[\"IS_FREE_HOLD_EN\"]=x[\"IS_FREE_HOLD_EN\"].map(f_map)\n",
    "\n",
    "#Encode metro, mall, landmark and project\n",
    "cols_to_convert = ['NEAREST_METRO_EN', 'NEAREST_MALL_EN', 'NEAREST_LANDMARK_EN', 'PROJECT_EN']\n",
    "for col in cols_to_convert:\n",
    "  x[col]=x[col].notna().astype(int)\n",
    "\n",
    "#fill nan values\n",
    "x=x.fillna(0)\n",
    "\n",
    "# Remove outliers (IQR)\n",
    "def remove_outliers_iqr(data, columns):\n",
    "    df_clean = data.copy()\n",
    "    for col in columns:\n",
    "        Q1 = df_clean[col].quantile(0.25)\n",
    "        Q3 = df_clean[col].quantile(0.75)\n",
    "        IQR = Q3 - Q1\n",
    "        lower_bound = Q1 - 1.5 * IQR\n",
    "        upper_bound = Q3 + 1.5 * IQR\n",
    "        df_clean = df_clean[(df_clean[col] >= lower_bound) & (df_clean[col] <= upper_bound)]\n",
    "    return df_clean\n",
    "\n",
    "numeric_cols = x.select_dtypes(include=['int64', 'float64']).columns.tolist()\n",
    "x = remove_outliers_iqr(x, numeric_cols)\n",
    "y = y.loc[x.index]\n",
    "\n",
    "# Define columns to target encode\n",
    "#target_encode_cols = ['PROCEDURE_EN', 'AREA_EN', 'PROP_SB_TYPE_EN', 'PARKING']\n",
    "\n",
    "# Create and apply the target encoder\n",
    "#target_encoder = ce.TargetEncoder(cols=target_encode_cols)\n",
    "\n",
    "#split to train_test\n",
    "x_train,x_test,y_train,y_test=train_test_split(x,y,test_size=0.2,stratify=y,random_state=42)\n",
    "\n",
    "tg1=TargetEncoder()\n",
    "x_train['PROCEDURE_EN']=tg1.fit_transform(x_train['PROCEDURE_EN'],y_train)\n",
    "x_test['PROCEDURE_EN']=tg1.transform(x_test['PROCEDURE_EN'])\n",
    "\n",
    "tg2=TargetEncoder()\n",
    "x_train['AREA_EN']=tg2.fit_transform(x_train['AREA_EN'],y_train)\n",
    "x_test['AREA_EN']=tg2.transform(x_test['AREA_EN'])\n",
    "\n",
    "tg3=TargetEncoder()\n",
    "x_train['PROP_SB_TYPE_EN']=tg3.fit_transform(x_train['PROP_SB_TYPE_EN'],y_train)\n",
    "x_test['PROP_SB_TYPE_EN']=tg3.transform(x_test['PROP_SB_TYPE_EN'])\n",
    "\n",
    "tg4=TargetEncoder()\n",
    "x_train['PARKING']=tg4.fit_transform(x_train['PARKING'],y_train)\n",
    "x_test['PARKING']=tg4.transform(x_test['PARKING'])\n",
    "                                             \n",
    "\n",
    "# Fit on training data only, then transform both train and test\n",
    "#x_train[target_encode_cols] = target_encoder.fit_transform(x_train[target_encode_cols], y_train)\n",
    "#x_test[target_encode_cols] = target_encoder.transform(x_test[target_encode_cols])"
   ]
  },
  {
   "cell_type": "code",
   "execution_count": 23,
   "metadata": {
    "colab": {
     "base_uri": "https://localhost:8080/",
     "height": 492
    },
    "id": "iOyO03oMGxGl",
    "outputId": "2b7ee82c-b708-4b59-c9f3-cb99cbdd916c"
   },
   "outputs": [
    {
     "data": {
      "text/plain": [
       "PROCEDURE_EN            object\n",
       "IS_OFFPLAN_EN            int32\n",
       "IS_FREE_HOLD_EN          int64\n",
       "AREA_EN                 object\n",
       "PROP_SB_TYPE_EN         object\n",
       "TRANS_VALUE            float64\n",
       "ACTUAL_AREA            float64\n",
       "ROOMS_EN               float64\n",
       "PARKING                 object\n",
       "NEAREST_METRO_EN         int32\n",
       "NEAREST_MALL_EN          int32\n",
       "NEAREST_LANDMARK_EN      int32\n",
       "PROJECT_EN               int32\n",
       "dtype: object"
      ]
     },
     "execution_count": 23,
     "metadata": {},
     "output_type": "execute_result"
    }
   ],
   "source": [
    "x.dtypes"
   ]
  },
  {
   "cell_type": "code",
   "execution_count": 24,
   "metadata": {
    "colab": {
     "base_uri": "https://localhost:8080/",
     "height": 492
    },
    "id": "Rm-KI4XAIWAq",
    "outputId": "c5921485-1039-40c5-c2b5-1f2c23163d99"
   },
   "outputs": [
    {
     "data": {
      "text/plain": [
       "PROCEDURE_EN           float64\n",
       "IS_OFFPLAN_EN            int32\n",
       "IS_FREE_HOLD_EN          int64\n",
       "AREA_EN                float64\n",
       "PROP_SB_TYPE_EN        float64\n",
       "TRANS_VALUE            float64\n",
       "ACTUAL_AREA            float64\n",
       "ROOMS_EN               float64\n",
       "PARKING                float64\n",
       "NEAREST_METRO_EN         int32\n",
       "NEAREST_MALL_EN          int32\n",
       "NEAREST_LANDMARK_EN      int32\n",
       "PROJECT_EN               int32\n",
       "dtype: object"
      ]
     },
     "execution_count": 24,
     "metadata": {},
     "output_type": "execute_result"
    }
   ],
   "source": [
    "x_train.dtypes"
   ]
  },
  {
   "cell_type": "code",
   "execution_count": 25,
   "metadata": {
    "colab": {
     "base_uri": "https://localhost:8080/",
     "height": 492
    },
    "id": "WQ4IvjuvI_9q",
    "outputId": "5024e114-34b9-4779-bc4f-99a41a381a8d"
   },
   "outputs": [
    {
     "data": {
      "text/plain": [
       "PROCEDURE_EN           float64\n",
       "IS_OFFPLAN_EN            int32\n",
       "IS_FREE_HOLD_EN          int64\n",
       "AREA_EN                float64\n",
       "PROP_SB_TYPE_EN        float64\n",
       "TRANS_VALUE            float64\n",
       "ACTUAL_AREA            float64\n",
       "ROOMS_EN               float64\n",
       "PARKING                float64\n",
       "NEAREST_METRO_EN         int32\n",
       "NEAREST_MALL_EN          int32\n",
       "NEAREST_LANDMARK_EN      int32\n",
       "PROJECT_EN               int32\n",
       "dtype: object"
      ]
     },
     "execution_count": 25,
     "metadata": {},
     "output_type": "execute_result"
    }
   ],
   "source": [
    "x_test.dtypes"
   ]
  },
  {
   "cell_type": "code",
   "execution_count": 26,
   "metadata": {
    "colab": {
     "base_uri": "https://localhost:8080/"
    },
    "id": "RDgb5JyjJGhA",
    "outputId": "a4c02aaf-ef94-4560-9e41-d7affa69a7aa"
   },
   "outputs": [
    {
     "data": {
      "text/plain": [
       "dtype('int64')"
      ]
     },
     "execution_count": 26,
     "metadata": {},
     "output_type": "execute_result"
    }
   ],
   "source": [
    "y.dtypes"
   ]
  },
  {
   "cell_type": "code",
   "execution_count": 27,
   "metadata": {
    "colab": {
     "base_uri": "https://localhost:8080/"
    },
    "id": "fReTXhOe7Lbh",
    "outputId": "48bd3fe5-0ec7-4142-d571-dd6fc5a54f3c"
   },
   "outputs": [
    {
     "data": {
      "text/plain": [
       "(8048, 13)"
      ]
     },
     "execution_count": 27,
     "metadata": {},
     "output_type": "execute_result"
    }
   ],
   "source": [
    "x_train.shape"
   ]
  },
  {
   "cell_type": "code",
   "execution_count": 28,
   "metadata": {
    "colab": {
     "base_uri": "https://localhost:8080/"
    },
    "id": "sC9yn3Mq7PPk",
    "outputId": "0837745c-5188-44c9-ce3d-d9aef61c1409"
   },
   "outputs": [
    {
     "data": {
      "text/plain": [
       "(2012, 13)"
      ]
     },
     "execution_count": 28,
     "metadata": {},
     "output_type": "execute_result"
    }
   ],
   "source": [
    "x_test.shape"
   ]
  },
  {
   "cell_type": "code",
   "execution_count": 29,
   "metadata": {
    "colab": {
     "base_uri": "https://localhost:8080/"
    },
    "id": "gzybqou17VaM",
    "outputId": "6c4de4f5-e4e5-43c7-8690-820b8b13663d"
   },
   "outputs": [
    {
     "data": {
      "text/plain": [
       "(8048,)"
      ]
     },
     "execution_count": 29,
     "metadata": {},
     "output_type": "execute_result"
    }
   ],
   "source": [
    "y_train.shape"
   ]
  },
  {
   "cell_type": "code",
   "execution_count": 30,
   "metadata": {
    "colab": {
     "base_uri": "https://localhost:8080/"
    },
    "id": "lubETRTy7bIl",
    "outputId": "212846af-224c-4810-f699-6668a88e7020"
   },
   "outputs": [
    {
     "data": {
      "text/plain": [
       "(2012,)"
      ]
     },
     "execution_count": 30,
     "metadata": {},
     "output_type": "execute_result"
    }
   ],
   "source": [
    "y_test.shape"
   ]
  },
  {
   "cell_type": "markdown",
   "metadata": {
    "id": "UbyqdRv5aDEP"
   },
   "source": [
    "SCALING"
   ]
  },
  {
   "cell_type": "code",
   "execution_count": 32,
   "metadata": {
    "id": "Y0ixi38KZ-qR"
   },
   "outputs": [],
   "source": [
    "#SCALING\n",
    "scaler = StandardScaler()\n",
    "x_train_scaled = scaler.fit_transform(x_train)\n",
    "x_test_scaled = scaler.transform(x_test)\n"
   ]
  },
  {
   "cell_type": "code",
   "execution_count": 33,
   "metadata": {
    "colab": {
     "base_uri": "https://localhost:8080/"
    },
    "id": "Tg8IDRCN7hv8",
    "outputId": "3952171d-789f-4dbb-8273-f9c7308cf05c"
   },
   "outputs": [
    {
     "data": {
      "text/plain": [
       "(8048, 13)"
      ]
     },
     "execution_count": 33,
     "metadata": {},
     "output_type": "execute_result"
    }
   ],
   "source": [
    "x_train_scaled.shape"
   ]
  },
  {
   "cell_type": "code",
   "execution_count": 34,
   "metadata": {
    "colab": {
     "base_uri": "https://localhost:8080/"
    },
    "id": "6cNjKqlu7shc",
    "outputId": "8c865755-952b-48c6-b054-fe65809d124f"
   },
   "outputs": [
    {
     "data": {
      "text/plain": [
       "(2012, 13)"
      ]
     },
     "execution_count": 34,
     "metadata": {},
     "output_type": "execute_result"
    }
   ],
   "source": [
    "x_test.shape"
   ]
  },
  {
   "cell_type": "markdown",
   "metadata": {
    "id": "Cj-5cVIhame9"
   },
   "source": [
    "**STEP 4: MODEL FIT**"
   ]
  },
  {
   "cell_type": "code",
   "execution_count": 35,
   "metadata": {
    "colab": {
     "base_uri": "https://localhost:8080/"
    },
    "id": "OwshH4USbkhv",
    "outputId": "c3828815-bbab-435f-8961-21b51a69ec8e"
   },
   "outputs": [
    {
     "name": "stdout",
     "output_type": "stream",
     "text": [
      "Model                     Train Score  Test Score   Accuracy    \n",
      "-----------------------------------------------------------------\n",
      "Random Forest             1.0000       1.0000       1.0000      \n",
      "Decision Tree             1.0000       1.0000       1.0000      \n",
      "KNN                       0.9999       0.9995       0.9995      \n",
      "SVM                       1.0000       1.0000       1.0000      \n",
      "Naive Bayes               1.0000       1.0000       1.0000      \n",
      "AdaBoost                  1.0000       1.0000       1.0000      \n",
      "Gradient Boost            1.0000       1.0000       1.0000      \n",
      "Logistic Regression       1.0000       1.0000       1.0000      \n",
      "XGBoost                   1.0000       1.0000       1.0000      \n"
     ]
    }
   ],
   "source": [
    "from sklearn.metrics import accuracy_score\n",
    "from sklearn.ensemble import RandomForestClassifier, AdaBoostClassifier, GradientBoostingClassifier\n",
    "from sklearn.tree import DecisionTreeClassifier\n",
    "from sklearn.neighbors import KNeighborsClassifier\n",
    "from sklearn.svm import SVC\n",
    "from sklearn.naive_bayes import GaussianNB\n",
    "from sklearn.linear_model import LogisticRegression\n",
    "from xgboost import XGBClassifier\n",
    "\n",
    "# Define classifiers\n",
    "models = {\n",
    "    \"Random Forest\": RandomForestClassifier(),\n",
    "    \"Decision Tree\": DecisionTreeClassifier(),\n",
    "    \"KNN\": KNeighborsClassifier(),\n",
    "    \"SVM\": SVC(),\n",
    "    \"Naive Bayes\": GaussianNB(),\n",
    "    \"AdaBoost\": AdaBoostClassifier(),\n",
    "    \"Gradient Boost\": GradientBoostingClassifier(),\n",
    "    \"Logistic Regression\": LogisticRegression(),\n",
    "    \"XGBoost\": XGBClassifier()\n",
    "}\n",
    "\n",
    "# Fit models and print scores\n",
    "print(\"{:<25} {:<12} {:<12} {:<12}\".format(\"Model\", \"Train Score\", \"Test Score\", \"Accuracy\"))\n",
    "print(\"-\"*65)\n",
    "\n",
    "for name, model in models.items():\n",
    "    model.fit(x_train_scaled, y_train)\n",
    "    train_score = model.score(x_train_scaled, y_train)\n",
    "    test_score = model.score(x_test_scaled, y_test)\n",
    "    y_pred = model.predict(x_test_scaled)\n",
    "    acc = accuracy_score(y_test, y_pred)\n",
    "    print(f\"{name:<25} {train_score:<12.4f} {test_score:<12.4f} {acc:<12.4f}\")"
   ]
  },
  {
   "cell_type": "markdown",
   "metadata": {
    "id": "BRFPQOuxKsYo"
   },
   "source": [
    "BALANCING TARGET DATA"
   ]
  },
  {
   "cell_type": "code",
   "execution_count": 36,
   "metadata": {
    "colab": {
     "base_uri": "https://localhost:8080/"
    },
    "id": "Hk8-NjMfmvaC",
    "outputId": "a47eb934-f90e-47a9-a5ea-3d40a0915108"
   },
   "outputs": [
    {
     "name": "stdout",
     "output_type": "stream",
     "text": [
      "Balanced class distribution:\n",
      " PROP_TYPE_EN\n",
      "0    7031\n",
      "1    7031\n",
      "2    7031\n",
      "Name: count, dtype: int64\n"
     ]
    }
   ],
   "source": [
    "# SMOTE directly on scaled data\n",
    "from imblearn.over_sampling import SMOTE\n",
    "\n",
    "smote = SMOTE(random_state=42)\n",
    "xtrain_balanced, ytrain_balanced = smote.fit_resample(x_train_scaled, y_train)\n",
    "\n",
    "print(\"Balanced class distribution:\\n\", pd.Series(ytrain_balanced).value_counts())"
   ]
  },
  {
   "cell_type": "markdown",
   "metadata": {
    "id": "kmgGv8BdK17d"
   },
   "source": [
    "**STEP 5: HYPER PARAMETER TUNING, EVALUATION AND CROSS-VALIDATION**"
   ]
  },
  {
   "cell_type": "code",
   "execution_count": 37,
   "metadata": {
    "colab": {
     "base_uri": "https://localhost:8080/"
    },
    "id": "RIm3gI4n9Q7k",
    "outputId": "2f3a7dc2-7fa0-4107-f3bf-3e5ea159eff2"
   },
   "outputs": [
    {
     "name": "stdout",
     "output_type": "stream",
     "text": [
      "\n",
      "\u001b[1m🔹 Logistic Regression\u001b[0m\n",
      "\n",
      "Best Params: {'C': 1, 'penalty': 'l2', 'solver': 'lbfgs'}\n",
      "\n",
      "Classification Report:\n",
      "               precision    recall  f1-score   support\n",
      "\n",
      "           0       1.00      1.00      1.00      1758\n",
      "           1       1.00      1.00      1.00        96\n",
      "           2       1.00      1.00      1.00       158\n",
      "\n",
      "    accuracy                           1.00      2012\n",
      "   macro avg       1.00      1.00      1.00      2012\n",
      "weighted avg       1.00      1.00      1.00      2012\n",
      "\n",
      "\n",
      "Confusion Matrix:\n",
      " [[1758    0    0]\n",
      " [   0   96    0]\n",
      " [   0    0  158]]\n",
      "\n",
      "Train score:\n",
      " 1.0\n",
      "\n",
      "Test Score:\n",
      " 1.0\n",
      "\n",
      "Train Accuracy Score: \n",
      " 1.0 \n",
      "\n",
      "Test Accuracy Score: \n",
      " 1.0 \n",
      "\n",
      "CV F1-macro Scores: [1. 1. 1. 1. 1.]\n",
      "Mean CV Score: 1.0 \n",
      "\n",
      "\n",
      "\u001b[1m🔹 Random Forest\u001b[0m\n",
      "\n",
      "Best Params: {'bootstrap': True, 'max_depth': 5, 'min_samples_split': 2, 'n_estimators': 100}\n",
      "\n",
      "Classification Report:\n",
      "               precision    recall  f1-score   support\n",
      "\n",
      "           0       1.00      1.00      1.00      1758\n",
      "           1       1.00      1.00      1.00        96\n",
      "           2       1.00      1.00      1.00       158\n",
      "\n",
      "    accuracy                           1.00      2012\n",
      "   macro avg       1.00      1.00      1.00      2012\n",
      "weighted avg       1.00      1.00      1.00      2012\n",
      "\n",
      "\n",
      "Confusion Matrix:\n",
      " [[1758    0    0]\n",
      " [   0   96    0]\n",
      " [   0    0  158]]\n",
      "\n",
      "Train score:\n",
      " 1.0\n",
      "\n",
      "Test Score:\n",
      " 1.0\n",
      "\n",
      "Train Accuracy Score: \n",
      " 1.0 \n",
      "\n",
      "Test Accuracy Score: \n",
      " 1.0 \n",
      "\n",
      "CV F1-macro Scores: [1. 1. 1. 1. 1.]\n",
      "Mean CV Score: 1.0 \n",
      "\n",
      "\n",
      "\u001b[1m🔹 Decision Tree\u001b[0m\n",
      "\n",
      "Best Params: {'criterion': 'gini', 'max_depth': 5, 'min_samples_split': 2}\n",
      "\n",
      "Classification Report:\n",
      "               precision    recall  f1-score   support\n",
      "\n",
      "           0       1.00      1.00      1.00      1758\n",
      "           1       1.00      1.00      1.00        96\n",
      "           2       1.00      1.00      1.00       158\n",
      "\n",
      "    accuracy                           1.00      2012\n",
      "   macro avg       1.00      1.00      1.00      2012\n",
      "weighted avg       1.00      1.00      1.00      2012\n",
      "\n",
      "\n",
      "Confusion Matrix:\n",
      " [[1758    0    0]\n",
      " [   0   96    0]\n",
      " [   0    0  158]]\n",
      "\n",
      "Train score:\n",
      " 1.0\n",
      "\n",
      "Test Score:\n",
      " 1.0\n",
      "\n",
      "Train Accuracy Score: \n",
      " 1.0 \n",
      "\n",
      "Test Accuracy Score: \n",
      " 1.0 \n",
      "\n",
      "CV F1-macro Scores: [1. 1. 1. 1. 1.]\n",
      "Mean CV Score: 1.0 \n",
      "\n",
      "\n",
      "\u001b[1m🔹 KNN\u001b[0m\n",
      "\n",
      "Best Params: {'metric': 'manhattan', 'n_neighbors': 3, 'weights': 'uniform'}\n",
      "\n",
      "Classification Report:\n",
      "               precision    recall  f1-score   support\n",
      "\n",
      "           0       1.00      1.00      1.00      1758\n",
      "           1       1.00      1.00      1.00        96\n",
      "           2       1.00      1.00      1.00       158\n",
      "\n",
      "    accuracy                           1.00      2012\n",
      "   macro avg       1.00      1.00      1.00      2012\n",
      "weighted avg       1.00      1.00      1.00      2012\n",
      "\n",
      "\n",
      "Confusion Matrix:\n",
      " [[1758    0    0]\n",
      " [   0   96    0]\n",
      " [   0    0  158]]\n",
      "\n",
      "Train score:\n",
      " 1.0\n",
      "\n",
      "Test Score:\n",
      " 1.0\n",
      "\n",
      "Train Accuracy Score: \n",
      " 1.0 \n",
      "\n",
      "Test Accuracy Score: \n",
      " 1.0 \n",
      "\n",
      "CV F1-macro Scores: [1. 1. 1. 1. 1.]\n",
      "Mean CV Score: 1.0 \n",
      "\n",
      "\n",
      "\u001b[1m🔹 SVM\u001b[0m\n",
      "\n",
      "Best Params: {'C': 0.1, 'gamma': 'scale', 'kernel': 'linear'}\n",
      "\n",
      "Classification Report:\n",
      "               precision    recall  f1-score   support\n",
      "\n",
      "           0       1.00      1.00      1.00      1758\n",
      "           1       1.00      1.00      1.00        96\n",
      "           2       1.00      1.00      1.00       158\n",
      "\n",
      "    accuracy                           1.00      2012\n",
      "   macro avg       1.00      1.00      1.00      2012\n",
      "weighted avg       1.00      1.00      1.00      2012\n",
      "\n",
      "\n",
      "Confusion Matrix:\n",
      " [[1758    0    0]\n",
      " [   0   96    0]\n",
      " [   0    0  158]]\n",
      "\n",
      "Train score:\n",
      " 1.0\n",
      "\n",
      "Test Score:\n",
      " 1.0\n",
      "\n",
      "Train Accuracy Score: \n",
      " 1.0 \n",
      "\n",
      "Test Accuracy Score: \n",
      " 1.0 \n",
      "\n",
      "CV F1-macro Scores: [1. 1. 1. 1. 1.]\n",
      "Mean CV Score: 1.0 \n",
      "\n",
      "\n",
      "\u001b[1m🔹 Naive Bayes\u001b[0m\n",
      "\n",
      "Best Params: {'var_smoothing': 1e-09}\n",
      "\n",
      "Classification Report:\n",
      "               precision    recall  f1-score   support\n",
      "\n",
      "           0       1.00      1.00      1.00      1758\n",
      "           1       1.00      1.00      1.00        96\n",
      "           2       1.00      1.00      1.00       158\n",
      "\n",
      "    accuracy                           1.00      2012\n",
      "   macro avg       1.00      1.00      1.00      2012\n",
      "weighted avg       1.00      1.00      1.00      2012\n",
      "\n",
      "\n",
      "Confusion Matrix:\n",
      " [[1758    0    0]\n",
      " [   0   96    0]\n",
      " [   0    0  158]]\n",
      "\n",
      "Train score:\n",
      " 1.0\n",
      "\n",
      "Test Score:\n",
      " 1.0\n",
      "\n",
      "Train Accuracy Score: \n",
      " 1.0 \n",
      "\n",
      "Test Accuracy Score: \n",
      " 1.0 \n",
      "\n",
      "CV F1-macro Scores: [1. 1. 1. 1. 1.]\n",
      "Mean CV Score: 1.0 \n",
      "\n",
      "\n",
      "\u001b[1m🔹 AdaBoost\u001b[0m\n",
      "\n",
      "Best Params: {'learning_rate': 0.1, 'n_estimators': 100}\n",
      "\n",
      "Classification Report:\n",
      "               precision    recall  f1-score   support\n",
      "\n",
      "           0       1.00      1.00      1.00      1758\n",
      "           1       1.00      1.00      1.00        96\n",
      "           2       1.00      1.00      1.00       158\n",
      "\n",
      "    accuracy                           1.00      2012\n",
      "   macro avg       1.00      1.00      1.00      2012\n",
      "weighted avg       1.00      1.00      1.00      2012\n",
      "\n",
      "\n",
      "Confusion Matrix:\n",
      " [[1758    0    0]\n",
      " [   0   96    0]\n",
      " [   0    0  158]]\n",
      "\n",
      "Train score:\n",
      " 1.0\n",
      "\n",
      "Test Score:\n",
      " 1.0\n",
      "\n",
      "Train Accuracy Score: \n",
      " 1.0 \n",
      "\n",
      "Test Accuracy Score: \n",
      " 1.0 \n",
      "\n",
      "CV F1-macro Scores: [1. 1. 1. 1. 1.]\n",
      "Mean CV Score: 1.0 \n",
      "\n",
      "\n",
      "\u001b[1m🔹 Gradient Boosting\u001b[0m\n",
      "\n",
      "Best Params: {'learning_rate': 0.01, 'max_depth': 3, 'n_estimators': 100}\n",
      "\n",
      "Classification Report:\n",
      "               precision    recall  f1-score   support\n",
      "\n",
      "           0       1.00      1.00      1.00      1758\n",
      "           1       1.00      1.00      1.00        96\n",
      "           2       1.00      1.00      1.00       158\n",
      "\n",
      "    accuracy                           1.00      2012\n",
      "   macro avg       1.00      1.00      1.00      2012\n",
      "weighted avg       1.00      1.00      1.00      2012\n",
      "\n",
      "\n",
      "Confusion Matrix:\n",
      " [[1758    0    0]\n",
      " [   0   96    0]\n",
      " [   0    0  158]]\n",
      "\n",
      "Train score:\n",
      " 1.0\n",
      "\n",
      "Test Score:\n",
      " 1.0\n",
      "\n",
      "Train Accuracy Score: \n",
      " 1.0 \n",
      "\n",
      "Test Accuracy Score: \n",
      " 1.0 \n",
      "\n",
      "CV F1-macro Scores: [1. 1. 1. 1. 1.]\n",
      "Mean CV Score: 1.0 \n",
      "\n",
      "\n",
      "\u001b[1m🔹 XGBoost\u001b[0m\n",
      "\n",
      "Best Params: {'learning_rate': 0.01, 'max_depth': 3, 'n_estimators': 100, 'subsample': 0.8}\n",
      "\n",
      "Classification Report:\n",
      "               precision    recall  f1-score   support\n",
      "\n",
      "           0       1.00      1.00      1.00      1758\n",
      "           1       1.00      1.00      1.00        96\n",
      "           2       1.00      1.00      1.00       158\n",
      "\n",
      "    accuracy                           1.00      2012\n",
      "   macro avg       1.00      1.00      1.00      2012\n",
      "weighted avg       1.00      1.00      1.00      2012\n",
      "\n",
      "\n",
      "Confusion Matrix:\n",
      " [[1758    0    0]\n",
      " [   0   96    0]\n",
      " [   0    0  158]]\n",
      "\n",
      "Train score:\n",
      " 1.0\n",
      "\n",
      "Test Score:\n",
      " 1.0\n",
      "\n",
      "Train Accuracy Score: \n",
      " 1.0 \n",
      "\n",
      "Test Accuracy Score: \n",
      " 1.0 \n",
      "\n",
      "CV F1-macro Scores: [1. 1. 1. 1. 1.]\n",
      "Mean CV Score: 1.0 \n",
      "\n"
     ]
    }
   ],
   "source": [
    "from sklearn.metrics import classification_report, confusion_matrix, ConfusionMatrixDisplay,accuracy_score\n",
    "from sklearn.model_selection import KFold\n",
    "from IPython.display import display, Markdown\n",
    "\n",
    "# Define Models and Optional Param Grids\n",
    "models = {\n",
    "    \"Logistic Regression\": LogisticRegression(max_iter=1000),\n",
    "    \"Random Forest\": RandomForestClassifier(random_state=42),\n",
    "    \"Decision Tree\": DecisionTreeClassifier(random_state=42),\n",
    "    \"KNN\": KNeighborsClassifier(),\n",
    "    \"SVM\": SVC(probability=True, random_state=42),\n",
    "    \"Naive Bayes\": GaussianNB(),\n",
    "    \"AdaBoost\": AdaBoostClassifier(random_state=42),\n",
    "    \"Gradient Boosting\": GradientBoostingClassifier(random_state=42),\n",
    "    \"XGBoost\": XGBClassifier(use_label_encoder=False, eval_metric='mlogloss')\n",
    "}\n",
    "\n",
    "param_grids = {\n",
    "    \"Logistic Regression\": {\n",
    "            'C': [0.01, 0.1, 1, 10],\n",
    "            'penalty': ['l2'],\n",
    "            'solver': ['lbfgs']\n",
    "        },\n",
    "    \"Decision Tree\": {\n",
    "            'criterion': ['gini', 'entropy'],\n",
    "            'max_depth': [5, 10, None],\n",
    "            'min_samples_split': [2, 5, 10]\n",
    "        },\n",
    "    \"Random Forest\": {\n",
    "            'n_estimators': [100, 200],\n",
    "            'max_depth': [5, 10, None],\n",
    "            'min_samples_split': [2, 5],\n",
    "            'bootstrap': [True, False]\n",
    "        },\n",
    "    \"KNN\": {\n",
    "            'n_neighbors': [3, 5, 7],\n",
    "            'weights': ['uniform', 'distance'],\n",
    "            'metric': ['euclidean', 'manhattan']\n",
    "        },\n",
    "    \"SVM\": {\n",
    "            'C': [0.1, 1, 10],\n",
    "            'kernel': ['linear', 'rbf'],\n",
    "            'gamma': ['scale', 'auto']\n",
    "        },\n",
    "    \"Naive Bayes\": {\n",
    "            'var_smoothing': [1e-9, 1e-8, 1e-7]\n",
    "        },\n",
    "    \"XGBoost\": {\n",
    "            'n_estimators': [100, 200],\n",
    "            'max_depth': [3, 5, 7],\n",
    "            'learning_rate': [0.01, 0.1],\n",
    "            'subsample': [0.8, 1]\n",
    "        },\n",
    "    \"Gradient Boosting\": {\n",
    "            'n_estimators': [100, 200],\n",
    "            'learning_rate': [0.01, 0.1],\n",
    "            'max_depth': [3, 5]\n",
    "        },\n",
    "    \"AdaBoost\": {\n",
    "            'n_estimators': [50, 100, 200],\n",
    "            'learning_rate': [0.01, 0.1, 1]\n",
    "        }\n",
    "    }\n",
    "\n",
    "\n",
    "# Train, Tune, Evaluate All Models\n",
    "for name, model in models.items():\n",
    "    print(f\"\\n\\033[1m🔹 {name}\\033[0m\\n\")\n",
    "\n",
    "    if name in param_grids:\n",
    "        grid = GridSearchCV(model, param_grids[name], cv=5, scoring='f1_macro')\n",
    "        grid.fit(xtrain_balanced, ytrain_balanced)\n",
    "        best_model = grid.best_estimator_\n",
    "        print(\"Best Params:\", grid.best_params_)\n",
    "    else:\n",
    "        best_model = model\n",
    "        best_model.fit(xtrain_balanced, ytrain_balanced)\n",
    "\n",
    "    # Predict on test data\n",
    "    y_pred = best_model.predict(x_test_scaled)\n",
    "    y_pred_train = best_model.predict(xtrain_balanced)\n",
    "\n",
    "    # Evaluation\n",
    "    print(\"\\nClassification Report:\\n\", classification_report(y_test, y_pred))\n",
    "    print(\"\\nConfusion Matrix:\\n\", confusion_matrix(y_test, y_pred))\n",
    "    print(\"\\nTrain score:\\n\", best_model.score(xtrain_balanced,ytrain_balanced))\n",
    "    print(\"\\nTest Score:\\n\", best_model.score(x_test_scaled,y_test))\n",
    "    print(\"\\nTrain Accuracy Score: \\n\",accuracy_score(ytrain_balanced,y_pred_train),\"\\n\")\n",
    "    print(\"Test Accuracy Score: \\n\",accuracy_score(y_test,y_pred),\"\\n\")\n",
    "\n",
    "    # Cross-validation on balanced training data\n",
    "    kfold=KFold(n_splits=5, shuffle=True,random_state=42)\n",
    "    scores = cross_val_score(best_model, xtrain_balanced, ytrain_balanced, cv=kfold, scoring='f1_macro')\n",
    "    print(\"CV F1-macro Scores:\", scores)\n",
    "    print(\"Mean CV Score:\", scores.mean(),\"\\n\")"
   ]
  },
  {
   "cell_type": "code",
   "execution_count": 38,
   "metadata": {
    "colab": {
     "base_uri": "https://localhost:8080/"
    },
    "id": "HgMdFS2JsNzO",
    "outputId": "89c9609f-bd56-4e95-9c63-fe20999d480b"
   },
   "outputs": [
    {
     "name": "stdout",
     "output_type": "stream",
     "text": [
      "Model                     Train Score  Test Score   Train Acc    Test Acc     Mean CV Score\n",
      "----------------------------------------------------------------------------------------------------\n",
      "Logistic Regression       1.0000       1.0000       1.0000       1.0000       1.0000      \n",
      "Random Forest             1.0000       1.0000       1.0000       1.0000       1.0000      \n",
      "Decision Tree             1.0000       1.0000       1.0000       1.0000       1.0000      \n",
      "KNN                       1.0000       1.0000       1.0000       1.0000       1.0000      \n",
      "SVM                       1.0000       1.0000       1.0000       1.0000       1.0000      \n",
      "Naive Bayes               1.0000       1.0000       1.0000       1.0000       1.0000      \n",
      "AdaBoost                  1.0000       1.0000       1.0000       1.0000       1.0000      \n",
      "Gradient Boosting         1.0000       1.0000       1.0000       1.0000       1.0000      \n",
      "XGBoost                   1.0000       1.0000       1.0000       1.0000       1.0000      \n"
     ]
    }
   ],
   "source": [
    "#Print scores\n",
    "print(\"{:<25} {:<12} {:<12} {:<12} {:<12} {:<12}\".format(\"Model\", \"Train Score\", \"Test Score\", \"Train Acc\", \"Test Acc\", \"Mean CV Score\"))\n",
    "print(\"-\"*100)\n",
    "\n",
    "train_score=best_model.score(xtrain_balanced,ytrain_balanced)\n",
    "test_score=best_model.score(x_test_scaled,y_test)\n",
    "train_accuracy=accuracy_score(ytrain_balanced,y_pred_train)\n",
    "test_accuracy=accuracy_score(y_test,y_pred)\n",
    "Mean_CV_Score=scores.mean()\n",
    "\n",
    "for name, model in models.items():\n",
    "  print(f\"{name:<25} {train_score:<12.4f} {test_score:<12.4f} {train_accuracy:<12.4f} {test_accuracy:<12.4f} {Mean_CV_Score:<12.4f}\")"
   ]
  },
  {
   "cell_type": "code",
   "execution_count": 40,
   "metadata": {
    "colab": {
     "base_uri": "https://localhost:8080/",
     "height": 255
    },
    "id": "LlptRkjj4tZI",
    "outputId": "35253ec5-8b1f-4478-be7b-fa733a8d8d31"
   },
   "outputs": [
    {
     "data": {
      "text/html": [
       "<style>#sk-container-id-1 {\n",
       "  /* Definition of color scheme common for light and dark mode */\n",
       "  --sklearn-color-text: #000;\n",
       "  --sklearn-color-text-muted: #666;\n",
       "  --sklearn-color-line: gray;\n",
       "  /* Definition of color scheme for unfitted estimators */\n",
       "  --sklearn-color-unfitted-level-0: #fff5e6;\n",
       "  --sklearn-color-unfitted-level-1: #f6e4d2;\n",
       "  --sklearn-color-unfitted-level-2: #ffe0b3;\n",
       "  --sklearn-color-unfitted-level-3: chocolate;\n",
       "  /* Definition of color scheme for fitted estimators */\n",
       "  --sklearn-color-fitted-level-0: #f0f8ff;\n",
       "  --sklearn-color-fitted-level-1: #d4ebff;\n",
       "  --sklearn-color-fitted-level-2: #b3dbfd;\n",
       "  --sklearn-color-fitted-level-3: cornflowerblue;\n",
       "\n",
       "  /* Specific color for light theme */\n",
       "  --sklearn-color-text-on-default-background: var(--sg-text-color, var(--theme-code-foreground, var(--jp-content-font-color1, black)));\n",
       "  --sklearn-color-background: var(--sg-background-color, var(--theme-background, var(--jp-layout-color0, white)));\n",
       "  --sklearn-color-border-box: var(--sg-text-color, var(--theme-code-foreground, var(--jp-content-font-color1, black)));\n",
       "  --sklearn-color-icon: #696969;\n",
       "\n",
       "  @media (prefers-color-scheme: dark) {\n",
       "    /* Redefinition of color scheme for dark theme */\n",
       "    --sklearn-color-text-on-default-background: var(--sg-text-color, var(--theme-code-foreground, var(--jp-content-font-color1, white)));\n",
       "    --sklearn-color-background: var(--sg-background-color, var(--theme-background, var(--jp-layout-color0, #111)));\n",
       "    --sklearn-color-border-box: var(--sg-text-color, var(--theme-code-foreground, var(--jp-content-font-color1, white)));\n",
       "    --sklearn-color-icon: #878787;\n",
       "  }\n",
       "}\n",
       "\n",
       "#sk-container-id-1 {\n",
       "  color: var(--sklearn-color-text);\n",
       "}\n",
       "\n",
       "#sk-container-id-1 pre {\n",
       "  padding: 0;\n",
       "}\n",
       "\n",
       "#sk-container-id-1 input.sk-hidden--visually {\n",
       "  border: 0;\n",
       "  clip: rect(1px 1px 1px 1px);\n",
       "  clip: rect(1px, 1px, 1px, 1px);\n",
       "  height: 1px;\n",
       "  margin: -1px;\n",
       "  overflow: hidden;\n",
       "  padding: 0;\n",
       "  position: absolute;\n",
       "  width: 1px;\n",
       "}\n",
       "\n",
       "#sk-container-id-1 div.sk-dashed-wrapped {\n",
       "  border: 1px dashed var(--sklearn-color-line);\n",
       "  margin: 0 0.4em 0.5em 0.4em;\n",
       "  box-sizing: border-box;\n",
       "  padding-bottom: 0.4em;\n",
       "  background-color: var(--sklearn-color-background);\n",
       "}\n",
       "\n",
       "#sk-container-id-1 div.sk-container {\n",
       "  /* jupyter's `normalize.less` sets `[hidden] { display: none; }`\n",
       "     but bootstrap.min.css set `[hidden] { display: none !important; }`\n",
       "     so we also need the `!important` here to be able to override the\n",
       "     default hidden behavior on the sphinx rendered scikit-learn.org.\n",
       "     See: https://github.com/scikit-learn/scikit-learn/issues/21755 */\n",
       "  display: inline-block !important;\n",
       "  position: relative;\n",
       "}\n",
       "\n",
       "#sk-container-id-1 div.sk-text-repr-fallback {\n",
       "  display: none;\n",
       "}\n",
       "\n",
       "div.sk-parallel-item,\n",
       "div.sk-serial,\n",
       "div.sk-item {\n",
       "  /* draw centered vertical line to link estimators */\n",
       "  background-image: linear-gradient(var(--sklearn-color-text-on-default-background), var(--sklearn-color-text-on-default-background));\n",
       "  background-size: 2px 100%;\n",
       "  background-repeat: no-repeat;\n",
       "  background-position: center center;\n",
       "}\n",
       "\n",
       "/* Parallel-specific style estimator block */\n",
       "\n",
       "#sk-container-id-1 div.sk-parallel-item::after {\n",
       "  content: \"\";\n",
       "  width: 100%;\n",
       "  border-bottom: 2px solid var(--sklearn-color-text-on-default-background);\n",
       "  flex-grow: 1;\n",
       "}\n",
       "\n",
       "#sk-container-id-1 div.sk-parallel {\n",
       "  display: flex;\n",
       "  align-items: stretch;\n",
       "  justify-content: center;\n",
       "  background-color: var(--sklearn-color-background);\n",
       "  position: relative;\n",
       "}\n",
       "\n",
       "#sk-container-id-1 div.sk-parallel-item {\n",
       "  display: flex;\n",
       "  flex-direction: column;\n",
       "}\n",
       "\n",
       "#sk-container-id-1 div.sk-parallel-item:first-child::after {\n",
       "  align-self: flex-end;\n",
       "  width: 50%;\n",
       "}\n",
       "\n",
       "#sk-container-id-1 div.sk-parallel-item:last-child::after {\n",
       "  align-self: flex-start;\n",
       "  width: 50%;\n",
       "}\n",
       "\n",
       "#sk-container-id-1 div.sk-parallel-item:only-child::after {\n",
       "  width: 0;\n",
       "}\n",
       "\n",
       "/* Serial-specific style estimator block */\n",
       "\n",
       "#sk-container-id-1 div.sk-serial {\n",
       "  display: flex;\n",
       "  flex-direction: column;\n",
       "  align-items: center;\n",
       "  background-color: var(--sklearn-color-background);\n",
       "  padding-right: 1em;\n",
       "  padding-left: 1em;\n",
       "}\n",
       "\n",
       "\n",
       "/* Toggleable style: style used for estimator/Pipeline/ColumnTransformer box that is\n",
       "clickable and can be expanded/collapsed.\n",
       "- Pipeline and ColumnTransformer use this feature and define the default style\n",
       "- Estimators will overwrite some part of the style using the `sk-estimator` class\n",
       "*/\n",
       "\n",
       "/* Pipeline and ColumnTransformer style (default) */\n",
       "\n",
       "#sk-container-id-1 div.sk-toggleable {\n",
       "  /* Default theme specific background. It is overwritten whether we have a\n",
       "  specific estimator or a Pipeline/ColumnTransformer */\n",
       "  background-color: var(--sklearn-color-background);\n",
       "}\n",
       "\n",
       "/* Toggleable label */\n",
       "#sk-container-id-1 label.sk-toggleable__label {\n",
       "  cursor: pointer;\n",
       "  display: flex;\n",
       "  width: 100%;\n",
       "  margin-bottom: 0;\n",
       "  padding: 0.5em;\n",
       "  box-sizing: border-box;\n",
       "  text-align: center;\n",
       "  align-items: start;\n",
       "  justify-content: space-between;\n",
       "  gap: 0.5em;\n",
       "}\n",
       "\n",
       "#sk-container-id-1 label.sk-toggleable__label .caption {\n",
       "  font-size: 0.6rem;\n",
       "  font-weight: lighter;\n",
       "  color: var(--sklearn-color-text-muted);\n",
       "}\n",
       "\n",
       "#sk-container-id-1 label.sk-toggleable__label-arrow:before {\n",
       "  /* Arrow on the left of the label */\n",
       "  content: \"▸\";\n",
       "  float: left;\n",
       "  margin-right: 0.25em;\n",
       "  color: var(--sklearn-color-icon);\n",
       "}\n",
       "\n",
       "#sk-container-id-1 label.sk-toggleable__label-arrow:hover:before {\n",
       "  color: var(--sklearn-color-text);\n",
       "}\n",
       "\n",
       "/* Toggleable content - dropdown */\n",
       "\n",
       "#sk-container-id-1 div.sk-toggleable__content {\n",
       "  max-height: 0;\n",
       "  max-width: 0;\n",
       "  overflow: hidden;\n",
       "  text-align: left;\n",
       "  /* unfitted */\n",
       "  background-color: var(--sklearn-color-unfitted-level-0);\n",
       "}\n",
       "\n",
       "#sk-container-id-1 div.sk-toggleable__content.fitted {\n",
       "  /* fitted */\n",
       "  background-color: var(--sklearn-color-fitted-level-0);\n",
       "}\n",
       "\n",
       "#sk-container-id-1 div.sk-toggleable__content pre {\n",
       "  margin: 0.2em;\n",
       "  border-radius: 0.25em;\n",
       "  color: var(--sklearn-color-text);\n",
       "  /* unfitted */\n",
       "  background-color: var(--sklearn-color-unfitted-level-0);\n",
       "}\n",
       "\n",
       "#sk-container-id-1 div.sk-toggleable__content.fitted pre {\n",
       "  /* unfitted */\n",
       "  background-color: var(--sklearn-color-fitted-level-0);\n",
       "}\n",
       "\n",
       "#sk-container-id-1 input.sk-toggleable__control:checked~div.sk-toggleable__content {\n",
       "  /* Expand drop-down */\n",
       "  max-height: 200px;\n",
       "  max-width: 100%;\n",
       "  overflow: auto;\n",
       "}\n",
       "\n",
       "#sk-container-id-1 input.sk-toggleable__control:checked~label.sk-toggleable__label-arrow:before {\n",
       "  content: \"▾\";\n",
       "}\n",
       "\n",
       "/* Pipeline/ColumnTransformer-specific style */\n",
       "\n",
       "#sk-container-id-1 div.sk-label input.sk-toggleable__control:checked~label.sk-toggleable__label {\n",
       "  color: var(--sklearn-color-text);\n",
       "  background-color: var(--sklearn-color-unfitted-level-2);\n",
       "}\n",
       "\n",
       "#sk-container-id-1 div.sk-label.fitted input.sk-toggleable__control:checked~label.sk-toggleable__label {\n",
       "  background-color: var(--sklearn-color-fitted-level-2);\n",
       "}\n",
       "\n",
       "/* Estimator-specific style */\n",
       "\n",
       "/* Colorize estimator box */\n",
       "#sk-container-id-1 div.sk-estimator input.sk-toggleable__control:checked~label.sk-toggleable__label {\n",
       "  /* unfitted */\n",
       "  background-color: var(--sklearn-color-unfitted-level-2);\n",
       "}\n",
       "\n",
       "#sk-container-id-1 div.sk-estimator.fitted input.sk-toggleable__control:checked~label.sk-toggleable__label {\n",
       "  /* fitted */\n",
       "  background-color: var(--sklearn-color-fitted-level-2);\n",
       "}\n",
       "\n",
       "#sk-container-id-1 div.sk-label label.sk-toggleable__label,\n",
       "#sk-container-id-1 div.sk-label label {\n",
       "  /* The background is the default theme color */\n",
       "  color: var(--sklearn-color-text-on-default-background);\n",
       "}\n",
       "\n",
       "/* On hover, darken the color of the background */\n",
       "#sk-container-id-1 div.sk-label:hover label.sk-toggleable__label {\n",
       "  color: var(--sklearn-color-text);\n",
       "  background-color: var(--sklearn-color-unfitted-level-2);\n",
       "}\n",
       "\n",
       "/* Label box, darken color on hover, fitted */\n",
       "#sk-container-id-1 div.sk-label.fitted:hover label.sk-toggleable__label.fitted {\n",
       "  color: var(--sklearn-color-text);\n",
       "  background-color: var(--sklearn-color-fitted-level-2);\n",
       "}\n",
       "\n",
       "/* Estimator label */\n",
       "\n",
       "#sk-container-id-1 div.sk-label label {\n",
       "  font-family: monospace;\n",
       "  font-weight: bold;\n",
       "  display: inline-block;\n",
       "  line-height: 1.2em;\n",
       "}\n",
       "\n",
       "#sk-container-id-1 div.sk-label-container {\n",
       "  text-align: center;\n",
       "}\n",
       "\n",
       "/* Estimator-specific */\n",
       "#sk-container-id-1 div.sk-estimator {\n",
       "  font-family: monospace;\n",
       "  border: 1px dotted var(--sklearn-color-border-box);\n",
       "  border-radius: 0.25em;\n",
       "  box-sizing: border-box;\n",
       "  margin-bottom: 0.5em;\n",
       "  /* unfitted */\n",
       "  background-color: var(--sklearn-color-unfitted-level-0);\n",
       "}\n",
       "\n",
       "#sk-container-id-1 div.sk-estimator.fitted {\n",
       "  /* fitted */\n",
       "  background-color: var(--sklearn-color-fitted-level-0);\n",
       "}\n",
       "\n",
       "/* on hover */\n",
       "#sk-container-id-1 div.sk-estimator:hover {\n",
       "  /* unfitted */\n",
       "  background-color: var(--sklearn-color-unfitted-level-2);\n",
       "}\n",
       "\n",
       "#sk-container-id-1 div.sk-estimator.fitted:hover {\n",
       "  /* fitted */\n",
       "  background-color: var(--sklearn-color-fitted-level-2);\n",
       "}\n",
       "\n",
       "/* Specification for estimator info (e.g. \"i\" and \"?\") */\n",
       "\n",
       "/* Common style for \"i\" and \"?\" */\n",
       "\n",
       ".sk-estimator-doc-link,\n",
       "a:link.sk-estimator-doc-link,\n",
       "a:visited.sk-estimator-doc-link {\n",
       "  float: right;\n",
       "  font-size: smaller;\n",
       "  line-height: 1em;\n",
       "  font-family: monospace;\n",
       "  background-color: var(--sklearn-color-background);\n",
       "  border-radius: 1em;\n",
       "  height: 1em;\n",
       "  width: 1em;\n",
       "  text-decoration: none !important;\n",
       "  margin-left: 0.5em;\n",
       "  text-align: center;\n",
       "  /* unfitted */\n",
       "  border: var(--sklearn-color-unfitted-level-1) 1pt solid;\n",
       "  color: var(--sklearn-color-unfitted-level-1);\n",
       "}\n",
       "\n",
       ".sk-estimator-doc-link.fitted,\n",
       "a:link.sk-estimator-doc-link.fitted,\n",
       "a:visited.sk-estimator-doc-link.fitted {\n",
       "  /* fitted */\n",
       "  border: var(--sklearn-color-fitted-level-1) 1pt solid;\n",
       "  color: var(--sklearn-color-fitted-level-1);\n",
       "}\n",
       "\n",
       "/* On hover */\n",
       "div.sk-estimator:hover .sk-estimator-doc-link:hover,\n",
       ".sk-estimator-doc-link:hover,\n",
       "div.sk-label-container:hover .sk-estimator-doc-link:hover,\n",
       ".sk-estimator-doc-link:hover {\n",
       "  /* unfitted */\n",
       "  background-color: var(--sklearn-color-unfitted-level-3);\n",
       "  color: var(--sklearn-color-background);\n",
       "  text-decoration: none;\n",
       "}\n",
       "\n",
       "div.sk-estimator.fitted:hover .sk-estimator-doc-link.fitted:hover,\n",
       ".sk-estimator-doc-link.fitted:hover,\n",
       "div.sk-label-container:hover .sk-estimator-doc-link.fitted:hover,\n",
       ".sk-estimator-doc-link.fitted:hover {\n",
       "  /* fitted */\n",
       "  background-color: var(--sklearn-color-fitted-level-3);\n",
       "  color: var(--sklearn-color-background);\n",
       "  text-decoration: none;\n",
       "}\n",
       "\n",
       "/* Span, style for the box shown on hovering the info icon */\n",
       ".sk-estimator-doc-link span {\n",
       "  display: none;\n",
       "  z-index: 9999;\n",
       "  position: relative;\n",
       "  font-weight: normal;\n",
       "  right: .2ex;\n",
       "  padding: .5ex;\n",
       "  margin: .5ex;\n",
       "  width: min-content;\n",
       "  min-width: 20ex;\n",
       "  max-width: 50ex;\n",
       "  color: var(--sklearn-color-text);\n",
       "  box-shadow: 2pt 2pt 4pt #999;\n",
       "  /* unfitted */\n",
       "  background: var(--sklearn-color-unfitted-level-0);\n",
       "  border: .5pt solid var(--sklearn-color-unfitted-level-3);\n",
       "}\n",
       "\n",
       ".sk-estimator-doc-link.fitted span {\n",
       "  /* fitted */\n",
       "  background: var(--sklearn-color-fitted-level-0);\n",
       "  border: var(--sklearn-color-fitted-level-3);\n",
       "}\n",
       "\n",
       ".sk-estimator-doc-link:hover span {\n",
       "  display: block;\n",
       "}\n",
       "\n",
       "/* \"?\"-specific style due to the `<a>` HTML tag */\n",
       "\n",
       "#sk-container-id-1 a.estimator_doc_link {\n",
       "  float: right;\n",
       "  font-size: 1rem;\n",
       "  line-height: 1em;\n",
       "  font-family: monospace;\n",
       "  background-color: var(--sklearn-color-background);\n",
       "  border-radius: 1rem;\n",
       "  height: 1rem;\n",
       "  width: 1rem;\n",
       "  text-decoration: none;\n",
       "  /* unfitted */\n",
       "  color: var(--sklearn-color-unfitted-level-1);\n",
       "  border: var(--sklearn-color-unfitted-level-1) 1pt solid;\n",
       "}\n",
       "\n",
       "#sk-container-id-1 a.estimator_doc_link.fitted {\n",
       "  /* fitted */\n",
       "  border: var(--sklearn-color-fitted-level-1) 1pt solid;\n",
       "  color: var(--sklearn-color-fitted-level-1);\n",
       "}\n",
       "\n",
       "/* On hover */\n",
       "#sk-container-id-1 a.estimator_doc_link:hover {\n",
       "  /* unfitted */\n",
       "  background-color: var(--sklearn-color-unfitted-level-3);\n",
       "  color: var(--sklearn-color-background);\n",
       "  text-decoration: none;\n",
       "}\n",
       "\n",
       "#sk-container-id-1 a.estimator_doc_link.fitted:hover {\n",
       "  /* fitted */\n",
       "  background-color: var(--sklearn-color-fitted-level-3);\n",
       "}\n",
       "</style><div id=\"sk-container-id-1\" class=\"sk-top-container\"><div class=\"sk-text-repr-fallback\"><pre>XGBClassifier(base_score=None, booster=None, callbacks=None,\n",
       "              colsample_bylevel=None, colsample_bynode=None,\n",
       "              colsample_bytree=None, device=None, early_stopping_rounds=None,\n",
       "              enable_categorical=False, eval_metric=&#x27;mlogloss&#x27;,\n",
       "              feature_types=None, feature_weights=None, gamma=None,\n",
       "              grow_policy=None, importance_type=None,\n",
       "              interaction_constraints=None, learning_rate=None, max_bin=None,\n",
       "              max_cat_threshold=None, max_cat_to_onehot=None,\n",
       "              max_delta_step=None, max_depth=None, max_leaves=None,\n",
       "              min_child_weight=None, missing=nan, monotone_constraints=None,\n",
       "              multi_strategy=None, n_estimators=None, n_jobs=None,\n",
       "              num_parallel_tree=None, ...)</pre><b>In a Jupyter environment, please rerun this cell to show the HTML representation or trust the notebook. <br />On GitHub, the HTML representation is unable to render, please try loading this page with nbviewer.org.</b></div><div class=\"sk-container\" hidden><div class=\"sk-item\"><div class=\"sk-estimator fitted sk-toggleable\"><input class=\"sk-toggleable__control sk-hidden--visually\" id=\"sk-estimator-id-1\" type=\"checkbox\" checked><label for=\"sk-estimator-id-1\" class=\"sk-toggleable__label fitted sk-toggleable__label-arrow\"><div><div>XGBClassifier</div></div><div><a class=\"sk-estimator-doc-link fitted\" rel=\"noreferrer\" target=\"_blank\" href=\"https://xgboost.readthedocs.io/en/release_3.0.0/python/python_api.html#xgboost.XGBClassifier\">?<span>Documentation for XGBClassifier</span></a><span class=\"sk-estimator-doc-link fitted\">i<span>Fitted</span></span></div></label><div class=\"sk-toggleable__content fitted\"><pre>XGBClassifier(base_score=None, booster=None, callbacks=None,\n",
       "              colsample_bylevel=None, colsample_bynode=None,\n",
       "              colsample_bytree=None, device=None, early_stopping_rounds=None,\n",
       "              enable_categorical=False, eval_metric=&#x27;mlogloss&#x27;,\n",
       "              feature_types=None, feature_weights=None, gamma=None,\n",
       "              grow_policy=None, importance_type=None,\n",
       "              interaction_constraints=None, learning_rate=None, max_bin=None,\n",
       "              max_cat_threshold=None, max_cat_to_onehot=None,\n",
       "              max_delta_step=None, max_depth=None, max_leaves=None,\n",
       "              min_child_weight=None, missing=nan, monotone_constraints=None,\n",
       "              multi_strategy=None, n_estimators=None, n_jobs=None,\n",
       "              num_parallel_tree=None, ...)</pre></div> </div></div></div></div>"
      ],
      "text/plain": [
       "XGBClassifier(base_score=None, booster=None, callbacks=None,\n",
       "              colsample_bylevel=None, colsample_bynode=None,\n",
       "              colsample_bytree=None, device=None, early_stopping_rounds=None,\n",
       "              enable_categorical=False, eval_metric='mlogloss',\n",
       "              feature_types=None, feature_weights=None, gamma=None,\n",
       "              grow_policy=None, importance_type=None,\n",
       "              interaction_constraints=None, learning_rate=None, max_bin=None,\n",
       "              max_cat_threshold=None, max_cat_to_onehot=None,\n",
       "              max_delta_step=None, max_depth=None, max_leaves=None,\n",
       "              min_child_weight=None, missing=nan, monotone_constraints=None,\n",
       "              multi_strategy=None, n_estimators=None, n_jobs=None,\n",
       "              num_parallel_tree=None, ...)"
      ]
     },
     "execution_count": 40,
     "metadata": {},
     "output_type": "execute_result"
    }
   ],
   "source": [
    "#Train and fit one best model\n",
    "MODEL = XGBClassifier(use_label_encoder=False, eval_metric='mlogloss')\n",
    "MODEL.fit(xtrain_balanced, ytrain_balanced)"
   ]
  },
  {
   "cell_type": "code",
   "execution_count": 41,
   "metadata": {
    "colab": {
     "base_uri": "https://localhost:8080/",
     "height": 489
    },
    "id": "QdwU7cWNBcpR",
    "outputId": "1d7258f2-d064-464a-940e-0bc708f3d1aa"
   },
   "outputs": [
    {
     "name": "stdout",
     "output_type": "stream",
     "text": [
      "ROC AUC Score: 1.0\n"
     ]
    },
    {
     "data": {
      "image/png": "[encoded data removed]",
      "text/plain": [
       "<Figure size 640x480 with 1 Axes>"
      ]
     },
     "metadata": {},
     "output_type": "display_data"
    }
   ],
   "source": [
    "#ROC AUC CURVE\n",
    "from sklearn.metrics import roc_auc_score, roc_curve, auc\n",
    "from sklearn.preprocessing import label_binarize\n",
    "\n",
    "#Get all classes\n",
    "classes=np.unique(y_test)\n",
    "\n",
    "# Binarize the true labels\n",
    "y_test_bin = label_binarize(y_test, classes=classes)\n",
    "n_classes=len(classes)\n",
    "\n",
    "#Predict probabilities\n",
    "y_prob = MODEL.predict_proba(x_test_scaled)\n",
    "\n",
    "# Calculate ROC AUC score\n",
    "roc_auc = roc_auc_score(y_test_bin, y_prob, average='macro', multi_class='ovr')\n",
    "print(\"ROC AUC Score:\", roc_auc)\n",
    "\n",
    "# Plot ROC Curve\n",
    "fpr = dict()\n",
    "tpr = dict()\n",
    "roc_auc = dict()\n",
    "\n",
    "for i in range(n_classes):\n",
    "    fpr[i], tpr[i], _ = roc_curve(y_test_bin[:, i], y_prob[:, i])\n",
    "    roc_auc[i] = auc(fpr[i], tpr[i])\n",
    "\n",
    "# 5. Compute macro-average ROC curve\n",
    "all_fpr = np.unique(np.concatenate([fpr[i] for i in range(n_classes)]))\n",
    "mean_tpr = np.zeros_like(all_fpr)\n",
    "\n",
    "for i in range(n_classes):\n",
    "    mean_tpr += np.interp(all_fpr, fpr[i], tpr[i])\n",
    "\n",
    "mean_tpr /= n_classes\n",
    "macro_auc = auc(all_fpr, mean_tpr)\n",
    "\n",
    "plt.figure()\n",
    "plt.plot(all_fpr, mean_tpr, color='blue', label=f\"ROC curve (AUC = {macro_auc:.2f})\")\n",
    "plt.plot([0, 1], [0, 1], color='red', linestyle='--')\n",
    "plt.xlabel('False Positive Rate')\n",
    "plt.ylabel('True Positive Rate')\n",
    "plt.title('ROC Curve')\n",
    "plt.legend()\n",
    "plt.show()"
   ]
  },
  {
   "cell_type": "markdown",
   "metadata": {
    "id": "dfxxiM8I4gHk"
   },
   "source": [
    "**STEP 6: DEPLOYMENT**"
   ]
  },
  {
   "cell_type": "code",
   "execution_count": null,
   "metadata": {},
   "outputs": [],
   "source": [
    "#SAVE MODEL"
   ]
  },
  {
   "cell_type": "code",
   "execution_count": 42,
   "metadata": {},
   "outputs": [
    {
     "data": {
      "text/plain": [
       "['XGB.pkl']"
      ]
     },
     "execution_count": 42,
     "metadata": {},
     "output_type": "execute_result"
    }
   ],
   "source": [
    "import joblib \n",
    "joblib.dump(MODEL,\"XGB.pkl\")"
   ]
  },
  {
   "cell_type": "code",
   "execution_count": 43,
   "metadata": {},
   "outputs": [
    {
     "data": {
      "text/plain": [
       "['labelen.pkl']"
      ]
     },
     "execution_count": 43,
     "metadata": {},
     "output_type": "execute_result"
    }
   ],
   "source": [
    "joblib.dump(le,\"labelen.pkl\")"
   ]
  },
  {
   "cell_type": "code",
   "execution_count": 44,
   "metadata": {},
   "outputs": [
    {
     "data": {
      "text/plain": [
       "['target1.pkl']"
      ]
     },
     "execution_count": 44,
     "metadata": {},
     "output_type": "execute_result"
    }
   ],
   "source": [
    "joblib.dump(tg1,\"target1.pkl\")"
   ]
  },
  {
   "cell_type": "code",
   "execution_count": 45,
   "metadata": {},
   "outputs": [
    {
     "data": {
      "text/plain": [
       "['target2.pkl']"
      ]
     },
     "execution_count": 45,
     "metadata": {},
     "output_type": "execute_result"
    }
   ],
   "source": [
    "joblib.dump(tg2,\"target2.pkl\")"
   ]
  },
  {
   "cell_type": "code",
   "execution_count": 46,
   "metadata": {},
   "outputs": [
    {
     "data": {
      "text/plain": [
       "['target3.pkl']"
      ]
     },
     "execution_count": 46,
     "metadata": {},
     "output_type": "execute_result"
    }
   ],
   "source": [
    "joblib.dump(tg3,\"target3.pkl\")"
   ]
  },
  {
   "cell_type": "code",
   "execution_count": 47,
   "metadata": {},
   "outputs": [
    {
     "data": {
      "text/plain": [
       "['target4.pkl']"
      ]
     },
     "execution_count": 47,
     "metadata": {},
     "output_type": "execute_result"
    }
   ],
   "source": [
    "joblib.dump(tg4,\"target4.pkl\")"
   ]
  },
  {
   "cell_type": "code",
   "execution_count": 48,
   "metadata": {},
   "outputs": [
    {
     "data": {
      "text/plain": [
       "['scaler.pkl']"
      ]
     },
     "execution_count": 48,
     "metadata": {},
     "output_type": "execute_result"
    }
   ],
   "source": [
    "joblib.dump(scaler,\"scaler.pkl\")"
   ]
  },
  {
   "cell_type": "code",
   "execution_count": null,
   "metadata": {},
   "outputs": [],
   "source": []
  },
  {
   "cell_type": "code",
   "execution_count": 49,
   "metadata": {},
   "outputs": [
    {
     "data": {
      "text/plain": [
       "['full_pipeline.pkl']"
      ]
     },
     "execution_count": 49,
     "metadata": {},
     "output_type": "execute_result"
    }
   ],
   "source": [
    "import pandas as pd\n",
    "import numpy as np\n",
    "import joblib\n",
    "\n",
    "from sklearn.model_selection import train_test_split\n",
    "from sklearn.pipeline import Pipeline\n",
    "from sklearn.compose import ColumnTransformer\n",
    "from sklearn.preprocessing import StandardScaler\n",
    "from category_encoders import TargetEncoder\n",
    "from xgboost import XGBClassifier\n",
    "from imblearn.pipeline import Pipeline as ImbPipeline\n",
    "from imblearn.over_sampling import SMOTE\n",
    "\n",
    "# Load your data\n",
    "df = pd.read_csv(\"transactions-2025-05-19.csv\")\n",
    "\n",
    "# Drop irrelevant columns\n",
    "df.drop(columns=[\"TRANSACTION_NUMBER\", \"INSTANCE_DATE\", \"GROUP_EN\", \"USAGE_EN\", \n",
    "                 \"PROCEDURE_AREA\", \"TOTAL_BUYER\", \"TOTAL_SELLER\", \"MASTER_PROJECT_EN\"], inplace=True)\n",
    "\n",
    "# Map target\n",
    "target_map = {'Unit': 0, 'Building': 1, 'Land': 2}\n",
    "df[\"PROP_TYPE_EN\"] = df[\"PROP_TYPE_EN\"].map(target_map)\n",
    "\n",
    "y = df[\"PROP_TYPE_EN\"]\n",
    "X = df.drop(columns=[\"PROP_TYPE_EN\"])\n",
    "\n",
    "# Map and encode features\n",
    "room_mapping = {\"Studio\": 0, \"1 B/R\": 1, \"2 B/R\": 2, \"3 B/R\": 3,\n",
    "                \"4 B/R\": 4, \"5 B/R\": 5, \"6 B/R\": 6, \"7 B/R\": 7,\n",
    "                \"8 B/R\": 8, \"9 B/R\": 9, \"10 B/R\": 10, \"Missing\": -1}\n",
    "X[\"ROOMS_EN\"] = X[\"ROOMS_EN\"].map(room_mapping).fillna(-1)\n",
    "\n",
    "X[\"IS_OFFPLAN_EN\"] = X[\"IS_OFFPLAN_EN\"].map({\"Yes\": 1, \"No\": 0})\n",
    "X[\"IS_FREE_HOLD_EN\"] = X[\"IS_FREE_HOLD_EN\"].map({\"Free Hold\": 1, \"Non Free Hold\": 0})\n",
    "\n",
    "for col in ['NEAREST_METRO_EN', 'NEAREST_MALL_EN', 'NEAREST_LANDMARK_EN', 'PROJECT_EN']:\n",
    "    X[col] = X[col].notna().astype(int)\n",
    "\n",
    "X = X.fillna(0)\n",
    "\n",
    "# Remove outliers\n",
    "def remove_outliers_iqr(data, columns):\n",
    "    for col in columns:\n",
    "        Q1 = data[col].quantile(0.25)\n",
    "        Q3 = data[col].quantile(0.75)\n",
    "        IQR = Q3 - Q1\n",
    "        data = data[(data[col] >= Q1 - 1.5 * IQR) & (data[col] <= Q3 + 1.5 * IQR)]\n",
    "    return data\n",
    "\n",
    "numeric_cols = X.select_dtypes(include=['int64', 'float64']).columns.tolist()\n",
    "X = remove_outliers_iqr(X, numeric_cols)\n",
    "y = y.loc[X.index]\n",
    "\n",
    "# Train-test split\n",
    "X_train, X_test, y_train, y_test = train_test_split(X, y, test_size=0.2, stratify=y, random_state=42)\n",
    "\n",
    "# Columns to encode\n",
    "target_encode_cols = ['PROCEDURE_EN', 'AREA_EN', 'PROP_SB_TYPE_EN', 'PARKING']\n",
    "remainder_cols = [col for col in X_train.columns if col not in target_encode_cols]\n",
    "\n",
    "# Build full preprocessing + model pipeline\n",
    "preprocessor = ColumnTransformer(\n",
    "    transformers=[\n",
    "        ('target', TargetEncoder(), target_encode_cols),\n",
    "        ('scale', StandardScaler(), remainder_cols)\n",
    "    ]\n",
    ")\n",
    "\n",
    "# Final pipeline with SMOTE (imbalance handling)\n",
    "pipeline = ImbPipeline(steps=[\n",
    "    ('preprocessing', preprocessor),\n",
    "    ('smote', SMOTE(random_state=42)),\n",
    "    ('classifier', XGBClassifier(use_label_encoder=False, eval_metric='mlogloss', random_state=42))\n",
    "])\n",
    "\n",
    "# Fit the full pipeline\n",
    "pipeline.fit(X_train, y_train)\n",
    "\n",
    "# Save it\n",
    "joblib.dump(pipeline, \"full_pipeline.pkl\")\n"
   ]
  },
  {
   "cell_type": "code",
   "execution_count": null,
   "metadata": {},
   "outputs": [],
   "source": []
  }
 ],
 "metadata": {
  "colab": {
   "provenance": []
  },
  "kernelspec": {
   "display_name": "Python 3 (ipykernel)",
   "language": "python",
   "name": "python3"
  },
  "language_info": {
   "codemirror_mode": {
    "name": "ipython",
    "version": 3
   },
   "file_extension": ".py",
   "mimetype": "text/x-python",
   "name": "python",
   "nbconvert_exporter": "python",
   "pygments_lexer": "ipython3",
   "version": "3.12.7"
  }
 },
 "nbformat": 4,
 "nbformat_minor": 4
}
